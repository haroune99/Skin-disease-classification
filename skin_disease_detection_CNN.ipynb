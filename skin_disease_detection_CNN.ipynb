{
  "nbformat": 4,
  "nbformat_minor": 0,
  "metadata": {
    "colab": {
      "provenance": []
    },
    "kernelspec": {
      "name": "python3",
      "display_name": "Python 3"
    },
    "language_info": {
      "name": "python"
    }
  },
  "cells": [
    {
      "cell_type": "code",
      "execution_count": 1,
      "metadata": {
        "colab": {
          "base_uri": "https://localhost:8080/"
        },
        "id": "YMHeheDPXqOn",
        "outputId": "9479a730-50d4-4deb-ca60-2c0fe761d117"
      },
      "outputs": [
        {
          "output_type": "stream",
          "name": "stdout",
          "text": [
            "Drive already mounted at /content/drive; to attempt to forcibly remount, call drive.mount(\"/content/drive\", force_remount=True).\n"
          ]
        }
      ],
      "source": [
        "from google.colab import drive\n",
        "drive.mount('/content/drive')"
      ]
    },
    {
      "cell_type": "code",
      "source": [
        "import tensorflow as tf\n",
        "import os\n",
        "import numpy as np\n",
        "from tensorflow.keras.preprocessing.image import ImageDataGenerator, load_img, img_to_array\n",
        "from tensorflow.keras.utils import to_categorical\n",
        "from PIL import Image\n",
        "from concurrent.futures import ProcessPoolExecutor, as_completed\n",
        "from tensorflow.keras import layers, models\n",
        "from tensorflow.keras.optimizers import Adam\n",
        "from tensorflow.keras.callbacks import EarlyStopping, ModelCheckpoint\n",
        "from tensorflow.keras.applications import ResNet50\n",
        "from tensorflow.keras.models import Model\n",
        "from tensorflow.keras.layers import Dense, GlobalAveragePooling2D\n"
      ],
      "metadata": {
        "id": "VA-5cihoaoQ6"
      },
      "execution_count": 24,
      "outputs": []
    },
    {
      "cell_type": "code",
      "source": [
        "# def augment_class(class_dir, num_augmented_images=100, target_size=(224, 224)):\n",
        "#     # Create an ImageDataGenerator with various augmentation parameters\n",
        "#     datagen = ImageDataGenerator(\n",
        "#         rotation_range=20,\n",
        "#         width_shift_range=0.2,\n",
        "#         height_shift_range=0.2,\n",
        "#         shear_range=0.2,\n",
        "#         zoom_range=0.2,\n",
        "#         horizontal_flip=True,\n",
        "#         fill_mode='nearest')\n",
        "\n",
        "#     # Get all image files in the class directory\n",
        "#     image_files = [f for f in os.listdir(class_dir) if f.endswith(('.png', '.jpg', '.jpeg'))]\n",
        "\n",
        "#     augmented_images = []\n",
        "\n",
        "#     for image_file in image_files:\n",
        "#         img_path = os.path.join(class_dir, image_file)\n",
        "#         img = load_img(img_path, target_size=target_size)\n",
        "#         x = img_to_array(img)\n",
        "#         x = np.expand_dims(x, axis=0)\n",
        "\n",
        "#         # Generate augmented images\n",
        "#         i = 0\n",
        "#         for batch in datagen.flow(x, batch_size=1):\n",
        "#             augmented_images.append(batch[0])\n",
        "#             i += 1\n",
        "#             if i >= num_augmented_images // len(image_files):\n",
        "#                 break\n",
        "\n",
        "#     return np.array(augmented_images)"
      ],
      "metadata": {
        "id": "s-TU5To6Xu0w"
      },
      "execution_count": 27,
      "outputs": []
    },
    {
      "cell_type": "code",
      "source": [
        "# # Example usage\n",
        "# base_dir = '/content/drive/MyDrive/skin-disease/train_skin'\n",
        "# classes = [d for d in os.listdir(base_dir) if os.path.isdir(os.path.join(base_dir, d))]\n",
        "\n",
        "# for class_name in classes:\n",
        "#     class_dir = os.path.join(base_dir, class_name)\n",
        "#     num_images = len([f for f in os.listdir(class_dir) if f.endswith(('.png', '.jpg', '.jpeg'))])\n",
        "\n",
        "#     if num_images < 100:  # Adjust this threshold as needed\n",
        "#         print(f\"Augmenting class: {class_name}\")\n",
        "#         augmented_images = augment_class(class_dir, num_augmented_images=500-num_images)\n",
        "\n",
        "#         # Save augmented images\n",
        "#         for i, img_array in enumerate(augmented_images):\n",
        "#             img = Image.fromarray((img_array * 255).astype(np.uint8))\n",
        "#             img.save(os.path.join(class_dir, f'augmented_{i}.jpg'))\n",
        "#     else:\n",
        "#         print(f\"Skipping augmentation for class: {class_name} (sufficient samples)\")"
      ],
      "metadata": {
        "id": "A_vt395caapX"
      },
      "execution_count": 35,
      "outputs": []
    },
    {
      "cell_type": "code",
      "source": [
        "def process_image(img_path, output_path, target_size):\n",
        "    try:\n",
        "        with Image.open(img_path) as img:\n",
        "            # Convert to RGB if the image is in a different mode\n",
        "            if img.mode != 'RGB':\n",
        "                img = img.convert('RGB')\n",
        "\n",
        "            # Resize the image\n",
        "            img = img.resize(target_size, Image.LANCZOS)\n",
        "\n",
        "            # Convert to numpy array and normalize\n",
        "            img_array = img_to_array(img).astype('float32') / 255.0\n",
        "\n",
        "            # Save the preprocessed image\n",
        "            Image.fromarray((img_array * 255).astype('uint8')).save(output_path)\n",
        "        return True\n",
        "    except Exception as e:\n",
        "        print(f\"Error processing {img_path}: {str(e)}\")\n",
        "        return False\n",
        "\n",
        "def preprocess_images(input_dir, output_dir, target_size=(224, 224)):\n",
        "    if not os.path.exists(output_dir):\n",
        "        os.makedirs(output_dir)\n",
        "\n",
        "    tasks = []\n",
        "\n",
        "    with ProcessPoolExecutor() as executor:\n",
        "        for class_name in os.listdir(input_dir):\n",
        "            class_dir = os.path.join(input_dir, class_name)\n",
        "\n",
        "            # Skip if not a directory\n",
        "            if not os.path.isdir(class_dir):\n",
        "                continue\n",
        "\n",
        "            output_class_dir = os.path.join(output_dir, class_name)\n",
        "\n",
        "            if not os.path.exists(output_class_dir):\n",
        "                os.makedirs(output_class_dir)\n",
        "\n",
        "            for img_name in os.listdir(class_dir):\n",
        "                if img_name.lower().endswith(('.png', '.jpg', '.jpeg')):\n",
        "                    img_path = os.path.join(class_dir, img_name)\n",
        "                    output_path = os.path.join(output_class_dir, f\"preprocessed_{img_name}\")\n",
        "\n",
        "                    task = executor.submit(process_image, img_path, output_path, target_size)\n",
        "                    tasks.append(task)\n",
        "\n",
        "    # Wait for all tasks to complete\n",
        "    successful = 0\n",
        "    for task in as_completed(tasks):\n",
        "        if task.result():\n",
        "            successful += 1\n",
        "\n",
        "    print(f\"Preprocessing completed! Successfully processed {successful} out of {len(tasks)} images.\")"
      ],
      "metadata": {
        "id": "WrSlaU4WabHq"
      },
      "execution_count": 40,
      "outputs": []
    },
    {
      "cell_type": "code",
      "source": [
        "# Usage\n",
        "\n",
        "input_directory = '/content/drive/MyDrive/skin_disease/train_skin'\n",
        "output_directory = '/content/drive/MyDrive/skin_disease/train_skin_resize'\n",
        "target_size = (224, 224)"
      ],
      "metadata": {
        "id": "wmYJKzJOabgN"
      },
      "execution_count": 4,
      "outputs": []
    },
    {
      "cell_type": "code",
      "source": [
        "preprocess_images(input_directory, output_directory, target_size)"
      ],
      "metadata": {
        "id": "wHuPQDW_ahcv"
      },
      "execution_count": null,
      "outputs": []
    },
    {
      "cell_type": "code",
      "source": [
        "# Just a function to count the number of file in a folder\n",
        "\n",
        "def count_files(directory):\n",
        "    try:\n",
        "        # List all files and directories in the given directory\n",
        "        entries = os.listdir(directory)\n",
        "        # Count only files\n",
        "        num_files = sum(1 for entry in entries if os.path.isfile(os.path.join(directory, entry)))\n",
        "        return num_files\n",
        "    except FileNotFoundError:\n",
        "        print(\"Directory not found\")\n",
        "        return 0\n",
        "\n",
        "# Example usage\n",
        "directory = '/content/drive/MyDrive/skin_disease/train_skin_resize/Psoriasis pictures Lichen Planus and related diseases'\n",
        "print(f\"Number of files: {count_files(directory)}\")"
      ],
      "metadata": {
        "colab": {
          "base_uri": "https://localhost:8080/"
        },
        "id": "4LC9XJ_fgGxa",
        "outputId": "400413cb-a71e-4bd9-8ad2-d7abf73a5bbc"
      },
      "execution_count": 42,
      "outputs": [
        {
          "output_type": "stream",
          "name": "stdout",
          "text": [
            "Number of files: 62\n"
          ]
        }
      ]
    },
    {
      "cell_type": "code",
      "source": [
        "batch_size = 32\n",
        "\n",
        "train_datagen = ImageDataGenerator(\n",
        "    validation_split=0.2  # Use 20% of the data for validation\n",
        ")\n",
        "\n",
        "# Load training data\n",
        "train_dataset = train_datagen.flow_from_directory(\n",
        "    output_directory,\n",
        "    target_size= target_size,\n",
        "    batch_size=batch_size,\n",
        "    class_mode='categorical',\n",
        "    subset='training'\n",
        ")\n",
        "\n",
        "# Load validation data\n",
        "val_dataset = train_datagen.flow_from_directory(\n",
        "    output_directory,\n",
        "    target_size= target_size,\n",
        "    batch_size=batch_size,\n",
        "    class_mode='categorical',\n",
        "    subset='validation'\n",
        ")\n"
      ],
      "metadata": {
        "colab": {
          "base_uri": "https://localhost:8080/"
        },
        "id": "3U7C4yrCuU_A",
        "outputId": "02c17821-1d83-4e8a-aff6-31ca87dfb4e6"
      },
      "execution_count": 5,
      "outputs": [
        {
          "output_type": "stream",
          "name": "stdout",
          "text": [
            "Found 2092 images belonging to 19 classes.\n",
            "Found 517 images belonging to 19 classes.\n"
          ]
        }
      ]
    },
    {
      "cell_type": "code",
      "source": [
        "def create_cnn_model(input_shape, num_classes):\n",
        "    model = models.Sequential([\n",
        "        layers.Conv2D(32, (3, 3), activation='relu', input_shape=input_shape),\n",
        "        layers.MaxPooling2D((2, 2)),\n",
        "        layers.Conv2D(64, (3, 3), activation='relu'),\n",
        "        layers.MaxPooling2D((2, 2)),\n",
        "        layers.Conv2D(64, (3, 3), activation='relu'),\n",
        "        layers.Flatten(),\n",
        "        layers.Dense(64, activation='relu'),\n",
        "        layers.Dense(num_classes, activation='softmax')\n",
        "    ])\n",
        "\n",
        "    return model"
      ],
      "metadata": {
        "id": "hMIspkuFaeKl"
      },
      "execution_count": 9,
      "outputs": []
    },
    {
      "cell_type": "code",
      "source": [
        "input_shape = (224, 224, 3)\n",
        "num_classes = 19"
      ],
      "metadata": {
        "id": "pUDkrtswarBx"
      },
      "execution_count": 10,
      "outputs": []
    },
    {
      "cell_type": "code",
      "source": [
        "model = create_cnn_model(input_shape, num_classes)"
      ],
      "metadata": {
        "id": "cL4MI8L8a-nI"
      },
      "execution_count": 11,
      "outputs": []
    },
    {
      "cell_type": "code",
      "source": [
        "model.compile(optimizer=Adam(learning_rate=0.001),\n",
        "              loss='categorical_crossentropy',\n",
        "              metrics=['accuracy'])"
      ],
      "metadata": {
        "id": "64pxthgFbajK"
      },
      "execution_count": 12,
      "outputs": []
    },
    {
      "cell_type": "code",
      "source": [
        "model.summary()"
      ],
      "metadata": {
        "colab": {
          "base_uri": "https://localhost:8080/"
        },
        "id": "lIq5h7asbcOk",
        "outputId": "7489fbf5-48c0-415c-ae7c-773e6dcee7ce"
      },
      "execution_count": 13,
      "outputs": [
        {
          "output_type": "stream",
          "name": "stdout",
          "text": [
            "Model: \"sequential\"\n",
            "_________________________________________________________________\n",
            " Layer (type)                Output Shape              Param #   \n",
            "=================================================================\n",
            " conv2d (Conv2D)             (None, 222, 222, 32)      896       \n",
            "                                                                 \n",
            " max_pooling2d (MaxPooling2  (None, 111, 111, 32)      0         \n",
            " D)                                                              \n",
            "                                                                 \n",
            " conv2d_1 (Conv2D)           (None, 109, 109, 64)      18496     \n",
            "                                                                 \n",
            " max_pooling2d_1 (MaxPoolin  (None, 54, 54, 64)        0         \n",
            " g2D)                                                            \n",
            "                                                                 \n",
            " conv2d_2 (Conv2D)           (None, 52, 52, 64)        36928     \n",
            "                                                                 \n",
            " flatten (Flatten)           (None, 173056)            0         \n",
            "                                                                 \n",
            " dense (Dense)               (None, 64)                11075648  \n",
            "                                                                 \n",
            " dense_1 (Dense)             (None, 19)                1235      \n",
            "                                                                 \n",
            "=================================================================\n",
            "Total params: 11133203 (42.47 MB)\n",
            "Trainable params: 11133203 (42.47 MB)\n",
            "Non-trainable params: 0 (0.00 Byte)\n",
            "_________________________________________________________________\n"
          ]
        }
      ]
    },
    {
      "cell_type": "code",
      "source": [
        "# Define callbacks\n",
        "\n",
        "early_stopping = EarlyStopping(\n",
        "    monitor='val_loss',\n",
        "    patience=10,\n",
        "    restore_best_weights=True,\n",
        "    verbose=1\n",
        ")\n",
        "\n",
        "model_checkpoint = ModelCheckpoint(\n",
        "    'best_model.h5',\n",
        "    monitor='val_accuracy',\n",
        "    save_best_only=True,\n",
        "    verbose=1\n",
        ")"
      ],
      "metadata": {
        "id": "RK-3eNGRdESI"
      },
      "execution_count": 17,
      "outputs": []
    },
    {
      "cell_type": "code",
      "source": [
        "# We Train the model\n",
        "\n",
        "model_v1 = model.fit(\n",
        "    train_dataset,\n",
        "    validation_data = val_dataset,\n",
        "    epochs=100,\n",
        "    callbacks=[early_stopping, model_checkpoint]\n",
        ")"
      ],
      "metadata": {
        "colab": {
          "base_uri": "https://localhost:8080/"
        },
        "id": "AKGlbcFJbeRY",
        "outputId": "573d3c57-53ce-4e32-a4a6-d11a27148db1"
      },
      "execution_count": 18,
      "outputs": [
        {
          "output_type": "stream",
          "name": "stdout",
          "text": [
            "Epoch 1/100\n",
            "66/66 [==============================] - ETA: 0s - loss: 2.8681 - accuracy: 0.3365\n",
            "Epoch 1: val_accuracy improved from -inf to 0.28046, saving model to best_model.h5\n"
          ]
        },
        {
          "output_type": "stream",
          "name": "stderr",
          "text": [
            "/usr/local/lib/python3.10/dist-packages/keras/src/engine/training.py:3103: UserWarning: You are saving your model as an HDF5 file via `model.save()`. This file format is considered legacy. We recommend using instead the native Keras format, e.g. `model.save('my_model.keras')`.\n",
            "  saving_api.save_model(\n"
          ]
        },
        {
          "output_type": "stream",
          "name": "stdout",
          "text": [
            "\b\b\b\b\b\b\b\b\b\b\b\b\b\b\b\b\b\b\b\b\b\b\b\b\b\b\b\b\b\b\b\b\b\b\b\b\b\b\b\b\b\b\b\b\b\b\b\b\b\b\b\b\b\b\b\b\b\b\b\b\b\b\b\b\b\b\b\b\b\b\b\b\b\b\b\b\b\b\b\b\b\b\r66/66 [==============================] - 547s 8s/step - loss: 2.8681 - accuracy: 0.3365 - val_loss: 2.7551 - val_accuracy: 0.2805\n",
            "Epoch 2/100\n",
            "66/66 [==============================] - ETA: 0s - loss: 2.3706 - accuracy: 0.4073\n",
            "Epoch 2: val_accuracy improved from 0.28046 to 0.29400, saving model to best_model.h5\n",
            "66/66 [==============================] - 268s 4s/step - loss: 2.3706 - accuracy: 0.4073 - val_loss: 2.8847 - val_accuracy: 0.2940\n",
            "Epoch 3/100\n",
            "66/66 [==============================] - ETA: 0s - loss: 1.8643 - accuracy: 0.5148\n",
            "Epoch 3: val_accuracy did not improve from 0.29400\n",
            "66/66 [==============================] - 302s 5s/step - loss: 1.8643 - accuracy: 0.5148 - val_loss: 3.3852 - val_accuracy: 0.2882\n",
            "Epoch 4/100\n",
            "66/66 [==============================] - ETA: 0s - loss: 1.5390 - accuracy: 0.6104\n",
            "Epoch 4: val_accuracy improved from 0.29400 to 0.29594, saving model to best_model.h5\n",
            "66/66 [==============================] - 266s 4s/step - loss: 1.5390 - accuracy: 0.6104 - val_loss: 3.3330 - val_accuracy: 0.2959\n",
            "Epoch 5/100\n",
            "66/66 [==============================] - ETA: 0s - loss: 1.4989 - accuracy: 0.6176\n",
            "Epoch 5: val_accuracy improved from 0.29594 to 0.29787, saving model to best_model.h5\n",
            "66/66 [==============================] - 248s 4s/step - loss: 1.4989 - accuracy: 0.6176 - val_loss: 6.2520 - val_accuracy: 0.2979\n",
            "Epoch 6/100\n",
            "66/66 [==============================] - ETA: 0s - loss: 1.3062 - accuracy: 0.6745\n",
            "Epoch 6: val_accuracy did not improve from 0.29787\n",
            "66/66 [==============================] - 255s 4s/step - loss: 1.3062 - accuracy: 0.6745 - val_loss: 5.3329 - val_accuracy: 0.2824\n",
            "Epoch 7/100\n",
            "66/66 [==============================] - ETA: 0s - loss: 1.0922 - accuracy: 0.7256\n",
            "Epoch 7: val_accuracy did not improve from 0.29787\n",
            "66/66 [==============================] - 250s 4s/step - loss: 1.0922 - accuracy: 0.7256 - val_loss: 5.3427 - val_accuracy: 0.2959\n",
            "Epoch 8/100\n",
            "66/66 [==============================] - ETA: 0s - loss: 1.4677 - accuracy: 0.7543\n",
            "Epoch 8: val_accuracy did not improve from 0.29787\n",
            "66/66 [==============================] - 264s 4s/step - loss: 1.4677 - accuracy: 0.7543 - val_loss: 5.1126 - val_accuracy: 0.2959\n",
            "Epoch 9/100\n",
            "66/66 [==============================] - ETA: 0s - loss: 0.9260 - accuracy: 0.7720\n",
            "Epoch 9: val_accuracy did not improve from 0.29787\n",
            "66/66 [==============================] - 265s 4s/step - loss: 0.9260 - accuracy: 0.7720 - val_loss: 6.3278 - val_accuracy: 0.2747\n",
            "Epoch 10/100\n",
            "66/66 [==============================] - ETA: 0s - loss: 0.7891 - accuracy: 0.8002\n",
            "Epoch 10: val_accuracy did not improve from 0.29787\n",
            "66/66 [==============================] - 251s 4s/step - loss: 0.7891 - accuracy: 0.8002 - val_loss: 6.4640 - val_accuracy: 0.2689\n",
            "Epoch 11/100\n",
            "66/66 [==============================] - ETA: 0s - loss: 0.8253 - accuracy: 0.7978Restoring model weights from the end of the best epoch: 1.\n",
            "\n",
            "Epoch 11: val_accuracy did not improve from 0.29787\n",
            "66/66 [==============================] - 254s 4s/step - loss: 0.8253 - accuracy: 0.7978 - val_loss: 6.8153 - val_accuracy: 0.2727\n",
            "Epoch 11: early stopping\n"
          ]
        }
      ]
    },
    {
      "cell_type": "code",
      "source": [
        "import matplotlib.pyplot as plt\n",
        "\n",
        "plt.figure(figsize=(12, 4))\n",
        "plt.subplot(1, 2, 1)\n",
        "plt.plot(model_v1.history['accuracy'], label='Train Accuracy')\n",
        "plt.plot(model_v1.history['val_accuracy'], label='Validation Accuracy')\n",
        "plt.legend()\n",
        "plt.title('Model Accuracy')\n",
        "\n",
        "plt.subplot(1, 2, 2)\n",
        "plt.plot(model_v1.history['loss'], label='Train Loss')\n",
        "plt.plot(model_v1.history['val_loss'], label='Validation Loss')\n",
        "plt.legend()\n",
        "plt.title('Model Loss')\n",
        "\n",
        "plt.show()"
      ],
      "metadata": {
        "colab": {
          "base_uri": "https://localhost:8080/",
          "height": 391
        },
        "id": "FVoOhiqcbiJK",
        "outputId": "9d011c0d-2c01-47a0-b5e8-88690d7cc35c"
      },
      "execution_count": 23,
      "outputs": [
        {
          "output_type": "display_data",
          "data": {
            "text/plain": [
              "<Figure size 1200x400 with 2 Axes>"
            ],
            "image/png": "[encoded data removed]"
          },
          "metadata": {}
        }
      ]
    },
    {
      "cell_type": "markdown",
      "source": [
        "Only 30% accuracy on the validation set, it can be explained by several reasons, among them, unbalanced data classes and the simplicity of the architecture.\n",
        "\n",
        "We ill use an already pre trained model ResNet now and see if it gives better results"
      ],
      "metadata": {
        "id": "Kjwzukoxxiyw"
      }
    },
    {
      "cell_type": "code",
      "source": [
        "def create_transfer_learning_model(input_shape, num_classes):\n",
        "    # Load the pre-trained ResNet50 model without the top layers\n",
        "    base_model = ResNet50(weights='imagenet', include_top=False, input_shape=input_shape)\n",
        "\n",
        "    # Freeze the base model layers\n",
        "    for layer in base_model.layers:\n",
        "        layer.trainable = False\n",
        "\n",
        "    # Add custom layers on top\n",
        "    x = base_model.output\n",
        "    x = GlobalAveragePooling2D()(x)\n",
        "    x = Dense(1024, activation='relu')(x)\n",
        "    output = Dense(num_classes, activation='softmax')(x)\n",
        "\n",
        "    # Create the final model\n",
        "    model = Model(inputs=base_model.input, outputs=output)\n",
        "\n",
        "    return model"
      ],
      "metadata": {
        "id": "ueWP75BxtUSs"
      },
      "execution_count": 33,
      "outputs": []
    },
    {
      "cell_type": "code",
      "source": [
        "# Create the transfer learning model\n",
        "model_res = create_transfer_learning_model(input_shape, num_classes)\n",
        "\n",
        "model_res.compile(optimizer=Adam(learning_rate=0.001),\n",
        "              loss='categorical_crossentropy',\n",
        "              metrics=['accuracy'])\n",
        "\n",
        "model_res.summary()"
      ],
      "metadata": {
        "colab": {
          "base_uri": "https://localhost:8080/"
        },
        "id": "m2up1cmo0aM4",
        "outputId": "d6fbbe65-3494-492f-968c-8b9c246fd11e"
      },
      "execution_count": 34,
      "outputs": [
        {
          "output_type": "stream",
          "name": "stdout",
          "text": [
            "Model: \"model_1\"\n",
            "__________________________________________________________________________________________________\n",
            " Layer (type)                Output Shape                 Param #   Connected to                  \n",
            "==================================================================================================\n",
            " input_2 (InputLayer)        [(None, 224, 224, 3)]        0         []                            \n",
            "                                                                                                  \n",
            " conv1_pad (ZeroPadding2D)   (None, 230, 230, 3)          0         ['input_2[0][0]']             \n",
            "                                                                                                  \n",
            " conv1_conv (Conv2D)         (None, 112, 112, 64)         9472      ['conv1_pad[0][0]']           \n",
            "                                                                                                  \n",
            " conv1_bn (BatchNormalizati  (None, 112, 112, 64)         256       ['conv1_conv[0][0]']          \n",
            " on)                                                                                              \n",
            "                                                                                                  \n",
            " conv1_relu (Activation)     (None, 112, 112, 64)         0         ['conv1_bn[0][0]']            \n",
            "                                                                                                  \n",
            " pool1_pad (ZeroPadding2D)   (None, 114, 114, 64)         0         ['conv1_relu[0][0]']          \n",
            "                                                                                                  \n",
            " pool1_pool (MaxPooling2D)   (None, 56, 56, 64)           0         ['pool1_pad[0][0]']           \n",
            "                                                                                                  \n",
            " conv2_block1_1_conv (Conv2  (None, 56, 56, 64)           4160      ['pool1_pool[0][0]']          \n",
            " D)                                                                                               \n",
            "                                                                                                  \n",
            " conv2_block1_1_bn (BatchNo  (None, 56, 56, 64)           256       ['conv2_block1_1_conv[0][0]'] \n",
            " rmalization)                                                                                     \n",
            "                                                                                                  \n",
            " conv2_block1_1_relu (Activ  (None, 56, 56, 64)           0         ['conv2_block1_1_bn[0][0]']   \n",
            " ation)                                                                                           \n",
            "                                                                                                  \n",
            " conv2_block1_2_conv (Conv2  (None, 56, 56, 64)           36928     ['conv2_block1_1_relu[0][0]'] \n",
            " D)                                                                                               \n",
            "                                                                                                  \n",
            " conv2_block1_2_bn (BatchNo  (None, 56, 56, 64)           256       ['conv2_block1_2_conv[0][0]'] \n",
            " rmalization)                                                                                     \n",
            "                                                                                                  \n",
            " conv2_block1_2_relu (Activ  (None, 56, 56, 64)           0         ['conv2_block1_2_bn[0][0]']   \n",
            " ation)                                                                                           \n",
            "                                                                                                  \n",
            " conv2_block1_0_conv (Conv2  (None, 56, 56, 256)          16640     ['pool1_pool[0][0]']          \n",
            " D)                                                                                               \n",
            "                                                                                                  \n",
            " conv2_block1_3_conv (Conv2  (None, 56, 56, 256)          16640     ['conv2_block1_2_relu[0][0]'] \n",
            " D)                                                                                               \n",
            "                                                                                                  \n",
            " conv2_block1_0_bn (BatchNo  (None, 56, 56, 256)          1024      ['conv2_block1_0_conv[0][0]'] \n",
            " rmalization)                                                                                     \n",
            "                                                                                                  \n",
            " conv2_block1_3_bn (BatchNo  (None, 56, 56, 256)          1024      ['conv2_block1_3_conv[0][0]'] \n",
            " rmalization)                                                                                     \n",
            "                                                                                                  \n",
            " conv2_block1_add (Add)      (None, 56, 56, 256)          0         ['conv2_block1_0_bn[0][0]',   \n",
            "                                                                     'conv2_block1_3_bn[0][0]']   \n",
            "                                                                                                  \n",
            " conv2_block1_out (Activati  (None, 56, 56, 256)          0         ['conv2_block1_add[0][0]']    \n",
            " on)                                                                                              \n",
            "                                                                                                  \n",
            " conv2_block2_1_conv (Conv2  (None, 56, 56, 64)           16448     ['conv2_block1_out[0][0]']    \n",
            " D)                                                                                               \n",
            "                                                                                                  \n",
            " conv2_block2_1_bn (BatchNo  (None, 56, 56, 64)           256       ['conv2_block2_1_conv[0][0]'] \n",
            " rmalization)                                                                                     \n",
            "                                                                                                  \n",
            " conv2_block2_1_relu (Activ  (None, 56, 56, 64)           0         ['conv2_block2_1_bn[0][0]']   \n",
            " ation)                                                                                           \n",
            "                                                                                                  \n",
            " conv2_block2_2_conv (Conv2  (None, 56, 56, 64)           36928     ['conv2_block2_1_relu[0][0]'] \n",
            " D)                                                                                               \n",
            "                                                                                                  \n",
            " conv2_block2_2_bn (BatchNo  (None, 56, 56, 64)           256       ['conv2_block2_2_conv[0][0]'] \n",
            " rmalization)                                                                                     \n",
            "                                                                                                  \n",
            " conv2_block2_2_relu (Activ  (None, 56, 56, 64)           0         ['conv2_block2_2_bn[0][0]']   \n",
            " ation)                                                                                           \n",
            "                                                                                                  \n",
            " conv2_block2_3_conv (Conv2  (None, 56, 56, 256)          16640     ['conv2_block2_2_relu[0][0]'] \n",
            " D)                                                                                               \n",
            "                                                                                                  \n",
            " conv2_block2_3_bn (BatchNo  (None, 56, 56, 256)          1024      ['conv2_block2_3_conv[0][0]'] \n",
            " rmalization)                                                                                     \n",
            "                                                                                                  \n",
            " conv2_block2_add (Add)      (None, 56, 56, 256)          0         ['conv2_block1_out[0][0]',    \n",
            "                                                                     'conv2_block2_3_bn[0][0]']   \n",
            "                                                                                                  \n",
            " conv2_block2_out (Activati  (None, 56, 56, 256)          0         ['conv2_block2_add[0][0]']    \n",
            " on)                                                                                              \n",
            "                                                                                                  \n",
            " conv2_block3_1_conv (Conv2  (None, 56, 56, 64)           16448     ['conv2_block2_out[0][0]']    \n",
            " D)                                                                                               \n",
            "                                                                                                  \n",
            " conv2_block3_1_bn (BatchNo  (None, 56, 56, 64)           256       ['conv2_block3_1_conv[0][0]'] \n",
            " rmalization)                                                                                     \n",
            "                                                                                                  \n",
            " conv2_block3_1_relu (Activ  (None, 56, 56, 64)           0         ['conv2_block3_1_bn[0][0]']   \n",
            " ation)                                                                                           \n",
            "                                                                                                  \n",
            " conv2_block3_2_conv (Conv2  (None, 56, 56, 64)           36928     ['conv2_block3_1_relu[0][0]'] \n",
            " D)                                                                                               \n",
            "                                                                                                  \n",
            " conv2_block3_2_bn (BatchNo  (None, 56, 56, 64)           256       ['conv2_block3_2_conv[0][0]'] \n",
            " rmalization)                                                                                     \n",
            "                                                                                                  \n",
            " conv2_block3_2_relu (Activ  (None, 56, 56, 64)           0         ['conv2_block3_2_bn[0][0]']   \n",
            " ation)                                                                                           \n",
            "                                                                                                  \n",
            " conv2_block3_3_conv (Conv2  (None, 56, 56, 256)          16640     ['conv2_block3_2_relu[0][0]'] \n",
            " D)                                                                                               \n",
            "                                                                                                  \n",
            " conv2_block3_3_bn (BatchNo  (None, 56, 56, 256)          1024      ['conv2_block3_3_conv[0][0]'] \n",
            " rmalization)                                                                                     \n",
            "                                                                                                  \n",
            " conv2_block3_add (Add)      (None, 56, 56, 256)          0         ['conv2_block2_out[0][0]',    \n",
            "                                                                     'conv2_block3_3_bn[0][0]']   \n",
            "                                                                                                  \n",
            " conv2_block3_out (Activati  (None, 56, 56, 256)          0         ['conv2_block3_add[0][0]']    \n",
            " on)                                                                                              \n",
            "                                                                                                  \n",
            " conv3_block1_1_conv (Conv2  (None, 28, 28, 128)          32896     ['conv2_block3_out[0][0]']    \n",
            " D)                                                                                               \n",
            "                                                                                                  \n",
            " conv3_block1_1_bn (BatchNo  (None, 28, 28, 128)          512       ['conv3_block1_1_conv[0][0]'] \n",
            " rmalization)                                                                                     \n",
            "                                                                                                  \n",
            " conv3_block1_1_relu (Activ  (None, 28, 28, 128)          0         ['conv3_block1_1_bn[0][0]']   \n",
            " ation)                                                                                           \n",
            "                                                                                                  \n",
            " conv3_block1_2_conv (Conv2  (None, 28, 28, 128)          147584    ['conv3_block1_1_relu[0][0]'] \n",
            " D)                                                                                               \n",
            "                                                                                                  \n",
            " conv3_block1_2_bn (BatchNo  (None, 28, 28, 128)          512       ['conv3_block1_2_conv[0][0]'] \n",
            " rmalization)                                                                                     \n",
            "                                                                                                  \n",
            " conv3_block1_2_relu (Activ  (None, 28, 28, 128)          0         ['conv3_block1_2_bn[0][0]']   \n",
            " ation)                                                                                           \n",
            "                                                                                                  \n",
            " conv3_block1_0_conv (Conv2  (None, 28, 28, 512)          131584    ['conv2_block3_out[0][0]']    \n",
            " D)                                                                                               \n",
            "                                                                                                  \n",
            " conv3_block1_3_conv (Conv2  (None, 28, 28, 512)          66048     ['conv3_block1_2_relu[0][0]'] \n",
            " D)                                                                                               \n",
            "                                                                                                  \n",
            " conv3_block1_0_bn (BatchNo  (None, 28, 28, 512)          2048      ['conv3_block1_0_conv[0][0]'] \n",
            " rmalization)                                                                                     \n",
            "                                                                                                  \n",
            " conv3_block1_3_bn (BatchNo  (None, 28, 28, 512)          2048      ['conv3_block1_3_conv[0][0]'] \n",
            " rmalization)                                                                                     \n",
            "                                                                                                  \n",
            " conv3_block1_add (Add)      (None, 28, 28, 512)          0         ['conv3_block1_0_bn[0][0]',   \n",
            "                                                                     'conv3_block1_3_bn[0][0]']   \n",
            "                                                                                                  \n",
            " conv3_block1_out (Activati  (None, 28, 28, 512)          0         ['conv3_block1_add[0][0]']    \n",
            " on)                                                                                              \n",
            "                                                                                                  \n",
            " conv3_block2_1_conv (Conv2  (None, 28, 28, 128)          65664     ['conv3_block1_out[0][0]']    \n",
            " D)                                                                                               \n",
            "                                                                                                  \n",
            " conv3_block2_1_bn (BatchNo  (None, 28, 28, 128)          512       ['conv3_block2_1_conv[0][0]'] \n",
            " rmalization)                                                                                     \n",
            "                                                                                                  \n",
            " conv3_block2_1_relu (Activ  (None, 28, 28, 128)          0         ['conv3_block2_1_bn[0][0]']   \n",
            " ation)                                                                                           \n",
            "                                                                                                  \n",
            " conv3_block2_2_conv (Conv2  (None, 28, 28, 128)          147584    ['conv3_block2_1_relu[0][0]'] \n",
            " D)                                                                                               \n",
            "                                                                                                  \n",
            " conv3_block2_2_bn (BatchNo  (None, 28, 28, 128)          512       ['conv3_block2_2_conv[0][0]'] \n",
            " rmalization)                                                                                     \n",
            "                                                                                                  \n",
            " conv3_block2_2_relu (Activ  (None, 28, 28, 128)          0         ['conv3_block2_2_bn[0][0]']   \n",
            " ation)                                                                                           \n",
            "                                                                                                  \n",
            " conv3_block2_3_conv (Conv2  (None, 28, 28, 512)          66048     ['conv3_block2_2_relu[0][0]'] \n",
            " D)                                                                                               \n",
            "                                                                                                  \n",
            " conv3_block2_3_bn (BatchNo  (None, 28, 28, 512)          2048      ['conv3_block2_3_conv[0][0]'] \n",
            " rmalization)                                                                                     \n",
            "                                                                                                  \n",
            " conv3_block2_add (Add)      (None, 28, 28, 512)          0         ['conv3_block1_out[0][0]',    \n",
            "                                                                     'conv3_block2_3_bn[0][0]']   \n",
            "                                                                                                  \n",
            " conv3_block2_out (Activati  (None, 28, 28, 512)          0         ['conv3_block2_add[0][0]']    \n",
            " on)                                                                                              \n",
            "                                                                                                  \n",
            " conv3_block3_1_conv (Conv2  (None, 28, 28, 128)          65664     ['conv3_block2_out[0][0]']    \n",
            " D)                                                                                               \n",
            "                                                                                                  \n",
            " conv3_block3_1_bn (BatchNo  (None, 28, 28, 128)          512       ['conv3_block3_1_conv[0][0]'] \n",
            " rmalization)                                                                                     \n",
            "                                                                                                  \n",
            " conv3_block3_1_relu (Activ  (None, 28, 28, 128)          0         ['conv3_block3_1_bn[0][0]']   \n",
            " ation)                                                                                           \n",
            "                                                                                                  \n",
            " conv3_block3_2_conv (Conv2  (None, 28, 28, 128)          147584    ['conv3_block3_1_relu[0][0]'] \n",
            " D)                                                                                               \n",
            "                                                                                                  \n",
            " conv3_block3_2_bn (BatchNo  (None, 28, 28, 128)          512       ['conv3_block3_2_conv[0][0]'] \n",
            " rmalization)                                                                                     \n",
            "                                                                                                  \n",
            " conv3_block3_2_relu (Activ  (None, 28, 28, 128)          0         ['conv3_block3_2_bn[0][0]']   \n",
            " ation)                                                                                           \n",
            "                                                                                                  \n",
            " conv3_block3_3_conv (Conv2  (None, 28, 28, 512)          66048     ['conv3_block3_2_relu[0][0]'] \n",
            " D)                                                                                               \n",
            "                                                                                                  \n",
            " conv3_block3_3_bn (BatchNo  (None, 28, 28, 512)          2048      ['conv3_block3_3_conv[0][0]'] \n",
            " rmalization)                                                                                     \n",
            "                                                                                                  \n",
            " conv3_block3_add (Add)      (None, 28, 28, 512)          0         ['conv3_block2_out[0][0]',    \n",
            "                                                                     'conv3_block3_3_bn[0][0]']   \n",
            "                                                                                                  \n",
            " conv3_block3_out (Activati  (None, 28, 28, 512)          0         ['conv3_block3_add[0][0]']    \n",
            " on)                                                                                              \n",
            "                                                                                                  \n",
            " conv3_block4_1_conv (Conv2  (None, 28, 28, 128)          65664     ['conv3_block3_out[0][0]']    \n",
            " D)                                                                                               \n",
            "                                                                                                  \n",
            " conv3_block4_1_bn (BatchNo  (None, 28, 28, 128)          512       ['conv3_block4_1_conv[0][0]'] \n",
            " rmalization)                                                                                     \n",
            "                                                                                                  \n",
            " conv3_block4_1_relu (Activ  (None, 28, 28, 128)          0         ['conv3_block4_1_bn[0][0]']   \n",
            " ation)                                                                                           \n",
            "                                                                                                  \n",
            " conv3_block4_2_conv (Conv2  (None, 28, 28, 128)          147584    ['conv3_block4_1_relu[0][0]'] \n",
            " D)                                                                                               \n",
            "                                                                                                  \n",
            " conv3_block4_2_bn (BatchNo  (None, 28, 28, 128)          512       ['conv3_block4_2_conv[0][0]'] \n",
            " rmalization)                                                                                     \n",
            "                                                                                                  \n",
            " conv3_block4_2_relu (Activ  (None, 28, 28, 128)          0         ['conv3_block4_2_bn[0][0]']   \n",
            " ation)                                                                                           \n",
            "                                                                                                  \n",
            " conv3_block4_3_conv (Conv2  (None, 28, 28, 512)          66048     ['conv3_block4_2_relu[0][0]'] \n",
            " D)                                                                                               \n",
            "                                                                                                  \n",
            " conv3_block4_3_bn (BatchNo  (None, 28, 28, 512)          2048      ['conv3_block4_3_conv[0][0]'] \n",
            " rmalization)                                                                                     \n",
            "                                                                                                  \n",
            " conv3_block4_add (Add)      (None, 28, 28, 512)          0         ['conv3_block3_out[0][0]',    \n",
            "                                                                     'conv3_block4_3_bn[0][0]']   \n",
            "                                                                                                  \n",
            " conv3_block4_out (Activati  (None, 28, 28, 512)          0         ['conv3_block4_add[0][0]']    \n",
            " on)                                                                                              \n",
            "                                                                                                  \n",
            " conv4_block1_1_conv (Conv2  (None, 14, 14, 256)          131328    ['conv3_block4_out[0][0]']    \n",
            " D)                                                                                               \n",
            "                                                                                                  \n",
            " conv4_block1_1_bn (BatchNo  (None, 14, 14, 256)          1024      ['conv4_block1_1_conv[0][0]'] \n",
            " rmalization)                                                                                     \n",
            "                                                                                                  \n",
            " conv4_block1_1_relu (Activ  (None, 14, 14, 256)          0         ['conv4_block1_1_bn[0][0]']   \n",
            " ation)                                                                                           \n",
            "                                                                                                  \n",
            " conv4_block1_2_conv (Conv2  (None, 14, 14, 256)          590080    ['conv4_block1_1_relu[0][0]'] \n",
            " D)                                                                                               \n",
            "                                                                                                  \n",
            " conv4_block1_2_bn (BatchNo  (None, 14, 14, 256)          1024      ['conv4_block1_2_conv[0][0]'] \n",
            " rmalization)                                                                                     \n",
            "                                                                                                  \n",
            " conv4_block1_2_relu (Activ  (None, 14, 14, 256)          0         ['conv4_block1_2_bn[0][0]']   \n",
            " ation)                                                                                           \n",
            "                                                                                                  \n",
            " conv4_block1_0_conv (Conv2  (None, 14, 14, 1024)         525312    ['conv3_block4_out[0][0]']    \n",
            " D)                                                                                               \n",
            "                                                                                                  \n",
            " conv4_block1_3_conv (Conv2  (None, 14, 14, 1024)         263168    ['conv4_block1_2_relu[0][0]'] \n",
            " D)                                                                                               \n",
            "                                                                                                  \n",
            " conv4_block1_0_bn (BatchNo  (None, 14, 14, 1024)         4096      ['conv4_block1_0_conv[0][0]'] \n",
            " rmalization)                                                                                     \n",
            "                                                                                                  \n",
            " conv4_block1_3_bn (BatchNo  (None, 14, 14, 1024)         4096      ['conv4_block1_3_conv[0][0]'] \n",
            " rmalization)                                                                                     \n",
            "                                                                                                  \n",
            " conv4_block1_add (Add)      (None, 14, 14, 1024)         0         ['conv4_block1_0_bn[0][0]',   \n",
            "                                                                     'conv4_block1_3_bn[0][0]']   \n",
            "                                                                                                  \n",
            " conv4_block1_out (Activati  (None, 14, 14, 1024)         0         ['conv4_block1_add[0][0]']    \n",
            " on)                                                                                              \n",
            "                                                                                                  \n",
            " conv4_block2_1_conv (Conv2  (None, 14, 14, 256)          262400    ['conv4_block1_out[0][0]']    \n",
            " D)                                                                                               \n",
            "                                                                                                  \n",
            " conv4_block2_1_bn (BatchNo  (None, 14, 14, 256)          1024      ['conv4_block2_1_conv[0][0]'] \n",
            " rmalization)                                                                                     \n",
            "                                                                                                  \n",
            " conv4_block2_1_relu (Activ  (None, 14, 14, 256)          0         ['conv4_block2_1_bn[0][0]']   \n",
            " ation)                                                                                           \n",
            "                                                                                                  \n",
            " conv4_block2_2_conv (Conv2  (None, 14, 14, 256)          590080    ['conv4_block2_1_relu[0][0]'] \n",
            " D)                                                                                               \n",
            "                                                                                                  \n",
            " conv4_block2_2_bn (BatchNo  (None, 14, 14, 256)          1024      ['conv4_block2_2_conv[0][0]'] \n",
            " rmalization)                                                                                     \n",
            "                                                                                                  \n",
            " conv4_block2_2_relu (Activ  (None, 14, 14, 256)          0         ['conv4_block2_2_bn[0][0]']   \n",
            " ation)                                                                                           \n",
            "                                                                                                  \n",
            " conv4_block2_3_conv (Conv2  (None, 14, 14, 1024)         263168    ['conv4_block2_2_relu[0][0]'] \n",
            " D)                                                                                               \n",
            "                                                                                                  \n",
            " conv4_block2_3_bn (BatchNo  (None, 14, 14, 1024)         4096      ['conv4_block2_3_conv[0][0]'] \n",
            " rmalization)                                                                                     \n",
            "                                                                                                  \n",
            " conv4_block2_add (Add)      (None, 14, 14, 1024)         0         ['conv4_block1_out[0][0]',    \n",
            "                                                                     'conv4_block2_3_bn[0][0]']   \n",
            "                                                                                                  \n",
            " conv4_block2_out (Activati  (None, 14, 14, 1024)         0         ['conv4_block2_add[0][0]']    \n",
            " on)                                                                                              \n",
            "                                                                                                  \n",
            " conv4_block3_1_conv (Conv2  (None, 14, 14, 256)          262400    ['conv4_block2_out[0][0]']    \n",
            " D)                                                                                               \n",
            "                                                                                                  \n",
            " conv4_block3_1_bn (BatchNo  (None, 14, 14, 256)          1024      ['conv4_block3_1_conv[0][0]'] \n",
            " rmalization)                                                                                     \n",
            "                                                                                                  \n",
            " conv4_block3_1_relu (Activ  (None, 14, 14, 256)          0         ['conv4_block3_1_bn[0][0]']   \n",
            " ation)                                                                                           \n",
            "                                                                                                  \n",
            " conv4_block3_2_conv (Conv2  (None, 14, 14, 256)          590080    ['conv4_block3_1_relu[0][0]'] \n",
            " D)                                                                                               \n",
            "                                                                                                  \n",
            " conv4_block3_2_bn (BatchNo  (None, 14, 14, 256)          1024      ['conv4_block3_2_conv[0][0]'] \n",
            " rmalization)                                                                                     \n",
            "                                                                                                  \n",
            " conv4_block3_2_relu (Activ  (None, 14, 14, 256)          0         ['conv4_block3_2_bn[0][0]']   \n",
            " ation)                                                                                           \n",
            "                                                                                                  \n",
            " conv4_block3_3_conv (Conv2  (None, 14, 14, 1024)         263168    ['conv4_block3_2_relu[0][0]'] \n",
            " D)                                                                                               \n",
            "                                                                                                  \n",
            " conv4_block3_3_bn (BatchNo  (None, 14, 14, 1024)         4096      ['conv4_block3_3_conv[0][0]'] \n",
            " rmalization)                                                                                     \n",
            "                                                                                                  \n",
            " conv4_block3_add (Add)      (None, 14, 14, 1024)         0         ['conv4_block2_out[0][0]',    \n",
            "                                                                     'conv4_block3_3_bn[0][0]']   \n",
            "                                                                                                  \n",
            " conv4_block3_out (Activati  (None, 14, 14, 1024)         0         ['conv4_block3_add[0][0]']    \n",
            " on)                                                                                              \n",
            "                                                                                                  \n",
            " conv4_block4_1_conv (Conv2  (None, 14, 14, 256)          262400    ['conv4_block3_out[0][0]']    \n",
            " D)                                                                                               \n",
            "                                                                                                  \n",
            " conv4_block4_1_bn (BatchNo  (None, 14, 14, 256)          1024      ['conv4_block4_1_conv[0][0]'] \n",
            " rmalization)                                                                                     \n",
            "                                                                                                  \n",
            " conv4_block4_1_relu (Activ  (None, 14, 14, 256)          0         ['conv4_block4_1_bn[0][0]']   \n",
            " ation)                                                                                           \n",
            "                                                                                                  \n",
            " conv4_block4_2_conv (Conv2  (None, 14, 14, 256)          590080    ['conv4_block4_1_relu[0][0]'] \n",
            " D)                                                                                               \n",
            "                                                                                                  \n",
            " conv4_block4_2_bn (BatchNo  (None, 14, 14, 256)          1024      ['conv4_block4_2_conv[0][0]'] \n",
            " rmalization)                                                                                     \n",
            "                                                                                                  \n",
            " conv4_block4_2_relu (Activ  (None, 14, 14, 256)          0         ['conv4_block4_2_bn[0][0]']   \n",
            " ation)                                                                                           \n",
            "                                                                                                  \n",
            " conv4_block4_3_conv (Conv2  (None, 14, 14, 1024)         263168    ['conv4_block4_2_relu[0][0]'] \n",
            " D)                                                                                               \n",
            "                                                                                                  \n",
            " conv4_block4_3_bn (BatchNo  (None, 14, 14, 1024)         4096      ['conv4_block4_3_conv[0][0]'] \n",
            " rmalization)                                                                                     \n",
            "                                                                                                  \n",
            " conv4_block4_add (Add)      (None, 14, 14, 1024)         0         ['conv4_block3_out[0][0]',    \n",
            "                                                                     'conv4_block4_3_bn[0][0]']   \n",
            "                                                                                                  \n",
            " conv4_block4_out (Activati  (None, 14, 14, 1024)         0         ['conv4_block4_add[0][0]']    \n",
            " on)                                                                                              \n",
            "                                                                                                  \n",
            " conv4_block5_1_conv (Conv2  (None, 14, 14, 256)          262400    ['conv4_block4_out[0][0]']    \n",
            " D)                                                                                               \n",
            "                                                                                                  \n",
            " conv4_block5_1_bn (BatchNo  (None, 14, 14, 256)          1024      ['conv4_block5_1_conv[0][0]'] \n",
            " rmalization)                                                                                     \n",
            "                                                                                                  \n",
            " conv4_block5_1_relu (Activ  (None, 14, 14, 256)          0         ['conv4_block5_1_bn[0][0]']   \n",
            " ation)                                                                                           \n",
            "                                                                                                  \n",
            " conv4_block5_2_conv (Conv2  (None, 14, 14, 256)          590080    ['conv4_block5_1_relu[0][0]'] \n",
            " D)                                                                                               \n",
            "                                                                                                  \n",
            " conv4_block5_2_bn (BatchNo  (None, 14, 14, 256)          1024      ['conv4_block5_2_conv[0][0]'] \n",
            " rmalization)                                                                                     \n",
            "                                                                                                  \n",
            " conv4_block5_2_relu (Activ  (None, 14, 14, 256)          0         ['conv4_block5_2_bn[0][0]']   \n",
            " ation)                                                                                           \n",
            "                                                                                                  \n",
            " conv4_block5_3_conv (Conv2  (None, 14, 14, 1024)         263168    ['conv4_block5_2_relu[0][0]'] \n",
            " D)                                                                                               \n",
            "                                                                                                  \n",
            " conv4_block5_3_bn (BatchNo  (None, 14, 14, 1024)         4096      ['conv4_block5_3_conv[0][0]'] \n",
            " rmalization)                                                                                     \n",
            "                                                                                                  \n",
            " conv4_block5_add (Add)      (None, 14, 14, 1024)         0         ['conv4_block4_out[0][0]',    \n",
            "                                                                     'conv4_block5_3_bn[0][0]']   \n",
            "                                                                                                  \n",
            " conv4_block5_out (Activati  (None, 14, 14, 1024)         0         ['conv4_block5_add[0][0]']    \n",
            " on)                                                                                              \n",
            "                                                                                                  \n",
            " conv4_block6_1_conv (Conv2  (None, 14, 14, 256)          262400    ['conv4_block5_out[0][0]']    \n",
            " D)                                                                                               \n",
            "                                                                                                  \n",
            " conv4_block6_1_bn (BatchNo  (None, 14, 14, 256)          1024      ['conv4_block6_1_conv[0][0]'] \n",
            " rmalization)                                                                                     \n",
            "                                                                                                  \n",
            " conv4_block6_1_relu (Activ  (None, 14, 14, 256)          0         ['conv4_block6_1_bn[0][0]']   \n",
            " ation)                                                                                           \n",
            "                                                                                                  \n",
            " conv4_block6_2_conv (Conv2  (None, 14, 14, 256)          590080    ['conv4_block6_1_relu[0][0]'] \n",
            " D)                                                                                               \n",
            "                                                                                                  \n",
            " conv4_block6_2_bn (BatchNo  (None, 14, 14, 256)          1024      ['conv4_block6_2_conv[0][0]'] \n",
            " rmalization)                                                                                     \n",
            "                                                                                                  \n",
            " conv4_block6_2_relu (Activ  (None, 14, 14, 256)          0         ['conv4_block6_2_bn[0][0]']   \n",
            " ation)                                                                                           \n",
            "                                                                                                  \n",
            " conv4_block6_3_conv (Conv2  (None, 14, 14, 1024)         263168    ['conv4_block6_2_relu[0][0]'] \n",
            " D)                                                                                               \n",
            "                                                                                                  \n",
            " conv4_block6_3_bn (BatchNo  (None, 14, 14, 1024)         4096      ['conv4_block6_3_conv[0][0]'] \n",
            " rmalization)                                                                                     \n",
            "                                                                                                  \n",
            " conv4_block6_add (Add)      (None, 14, 14, 1024)         0         ['conv4_block5_out[0][0]',    \n",
            "                                                                     'conv4_block6_3_bn[0][0]']   \n",
            "                                                                                                  \n",
            " conv4_block6_out (Activati  (None, 14, 14, 1024)         0         ['conv4_block6_add[0][0]']    \n",
            " on)                                                                                              \n",
            "                                                                                                  \n",
            " conv5_block1_1_conv (Conv2  (None, 7, 7, 512)            524800    ['conv4_block6_out[0][0]']    \n",
            " D)                                                                                               \n",
            "                                                                                                  \n",
            " conv5_block1_1_bn (BatchNo  (None, 7, 7, 512)            2048      ['conv5_block1_1_conv[0][0]'] \n",
            " rmalization)                                                                                     \n",
            "                                                                                                  \n",
            " conv5_block1_1_relu (Activ  (None, 7, 7, 512)            0         ['conv5_block1_1_bn[0][0]']   \n",
            " ation)                                                                                           \n",
            "                                                                                                  \n",
            " conv5_block1_2_conv (Conv2  (None, 7, 7, 512)            2359808   ['conv5_block1_1_relu[0][0]'] \n",
            " D)                                                                                               \n",
            "                                                                                                  \n",
            " conv5_block1_2_bn (BatchNo  (None, 7, 7, 512)            2048      ['conv5_block1_2_conv[0][0]'] \n",
            " rmalization)                                                                                     \n",
            "                                                                                                  \n",
            " conv5_block1_2_relu (Activ  (None, 7, 7, 512)            0         ['conv5_block1_2_bn[0][0]']   \n",
            " ation)                                                                                           \n",
            "                                                                                                  \n",
            " conv5_block1_0_conv (Conv2  (None, 7, 7, 2048)           2099200   ['conv4_block6_out[0][0]']    \n",
            " D)                                                                                               \n",
            "                                                                                                  \n",
            " conv5_block1_3_conv (Conv2  (None, 7, 7, 2048)           1050624   ['conv5_block1_2_relu[0][0]'] \n",
            " D)                                                                                               \n",
            "                                                                                                  \n",
            " conv5_block1_0_bn (BatchNo  (None, 7, 7, 2048)           8192      ['conv5_block1_0_conv[0][0]'] \n",
            " rmalization)                                                                                     \n",
            "                                                                                                  \n",
            " conv5_block1_3_bn (BatchNo  (None, 7, 7, 2048)           8192      ['conv5_block1_3_conv[0][0]'] \n",
            " rmalization)                                                                                     \n",
            "                                                                                                  \n",
            " conv5_block1_add (Add)      (None, 7, 7, 2048)           0         ['conv5_block1_0_bn[0][0]',   \n",
            "                                                                     'conv5_block1_3_bn[0][0]']   \n",
            "                                                                                                  \n",
            " conv5_block1_out (Activati  (None, 7, 7, 2048)           0         ['conv5_block1_add[0][0]']    \n",
            " on)                                                                                              \n",
            "                                                                                                  \n",
            " conv5_block2_1_conv (Conv2  (None, 7, 7, 512)            1049088   ['conv5_block1_out[0][0]']    \n",
            " D)                                                                                               \n",
            "                                                                                                  \n",
            " conv5_block2_1_bn (BatchNo  (None, 7, 7, 512)            2048      ['conv5_block2_1_conv[0][0]'] \n",
            " rmalization)                                                                                     \n",
            "                                                                                                  \n",
            " conv5_block2_1_relu (Activ  (None, 7, 7, 512)            0         ['conv5_block2_1_bn[0][0]']   \n",
            " ation)                                                                                           \n",
            "                                                                                                  \n",
            " conv5_block2_2_conv (Conv2  (None, 7, 7, 512)            2359808   ['conv5_block2_1_relu[0][0]'] \n",
            " D)                                                                                               \n",
            "                                                                                                  \n",
            " conv5_block2_2_bn (BatchNo  (None, 7, 7, 512)            2048      ['conv5_block2_2_conv[0][0]'] \n",
            " rmalization)                                                                                     \n",
            "                                                                                                  \n",
            " conv5_block2_2_relu (Activ  (None, 7, 7, 512)            0         ['conv5_block2_2_bn[0][0]']   \n",
            " ation)                                                                                           \n",
            "                                                                                                  \n",
            " conv5_block2_3_conv (Conv2  (None, 7, 7, 2048)           1050624   ['conv5_block2_2_relu[0][0]'] \n",
            " D)                                                                                               \n",
            "                                                                                                  \n",
            " conv5_block2_3_bn (BatchNo  (None, 7, 7, 2048)           8192      ['conv5_block2_3_conv[0][0]'] \n",
            " rmalization)                                                                                     \n",
            "                                                                                                  \n",
            " conv5_block2_add (Add)      (None, 7, 7, 2048)           0         ['conv5_block1_out[0][0]',    \n",
            "                                                                     'conv5_block2_3_bn[0][0]']   \n",
            "                                                                                                  \n",
            " conv5_block2_out (Activati  (None, 7, 7, 2048)           0         ['conv5_block2_add[0][0]']    \n",
            " on)                                                                                              \n",
            "                                                                                                  \n",
            " conv5_block3_1_conv (Conv2  (None, 7, 7, 512)            1049088   ['conv5_block2_out[0][0]']    \n",
            " D)                                                                                               \n",
            "                                                                                                  \n",
            " conv5_block3_1_bn (BatchNo  (None, 7, 7, 512)            2048      ['conv5_block3_1_conv[0][0]'] \n",
            " rmalization)                                                                                     \n",
            "                                                                                                  \n",
            " conv5_block3_1_relu (Activ  (None, 7, 7, 512)            0         ['conv5_block3_1_bn[0][0]']   \n",
            " ation)                                                                                           \n",
            "                                                                                                  \n",
            " conv5_block3_2_conv (Conv2  (None, 7, 7, 512)            2359808   ['conv5_block3_1_relu[0][0]'] \n",
            " D)                                                                                               \n",
            "                                                                                                  \n",
            " conv5_block3_2_bn (BatchNo  (None, 7, 7, 512)            2048      ['conv5_block3_2_conv[0][0]'] \n",
            " rmalization)                                                                                     \n",
            "                                                                                                  \n",
            " conv5_block3_2_relu (Activ  (None, 7, 7, 512)            0         ['conv5_block3_2_bn[0][0]']   \n",
            " ation)                                                                                           \n",
            "                                                                                                  \n",
            " conv5_block3_3_conv (Conv2  (None, 7, 7, 2048)           1050624   ['conv5_block3_2_relu[0][0]'] \n",
            " D)                                                                                               \n",
            "                                                                                                  \n",
            " conv5_block3_3_bn (BatchNo  (None, 7, 7, 2048)           8192      ['conv5_block3_3_conv[0][0]'] \n",
            " rmalization)                                                                                     \n",
            "                                                                                                  \n",
            " conv5_block3_add (Add)      (None, 7, 7, 2048)           0         ['conv5_block2_out[0][0]',    \n",
            "                                                                     'conv5_block3_3_bn[0][0]']   \n",
            "                                                                                                  \n",
            " conv5_block3_out (Activati  (None, 7, 7, 2048)           0         ['conv5_block3_add[0][0]']    \n",
            " on)                                                                                              \n",
            "                                                                                                  \n",
            " global_average_pooling2d_1  (None, 2048)                 0         ['conv5_block3_out[0][0]']    \n",
            "  (GlobalAveragePooling2D)                                                                        \n",
            "                                                                                                  \n",
            " dense_4 (Dense)             (None, 1024)                 2098176   ['global_average_pooling2d_1[0\n",
            "                                                                    ][0]']                        \n",
            "                                                                                                  \n",
            " dense_5 (Dense)             (None, 19)                   19475     ['dense_4[0][0]']             \n",
            "                                                                                                  \n",
            "==================================================================================================\n",
            "Total params: 25705363 (98.06 MB)\n",
            "Trainable params: 2117651 (8.08 MB)\n",
            "Non-trainable params: 23587712 (89.98 MB)\n",
            "__________________________________________________________________________________________________\n"
          ]
        }
      ]
    },
    {
      "cell_type": "code",
      "source": [
        "# Define callbacks\n",
        "early_stopping = tf.keras.callbacks.EarlyStopping(\n",
        "    monitor='val_loss', patience=10, restore_best_weights=True, verbose = 1)\n",
        "\n",
        "reduce_lr = tf.keras.callbacks.ReduceLROnPlateau(\n",
        "    monitor='val_loss', factor=0.2, patience=5, min_lr=1e-6, verbose = 1)\n",
        "\n",
        "# Add ModelCheckpoint callback\n",
        "model_checkpoint = ModelCheckpoint(\n",
        "    'best_skin_disease_model.h5',\n",
        "    monitor='val_accuracy',\n",
        "    save_best_only=True,\n",
        "    mode='max',\n",
        "    verbose=1\n",
        ")"
      ],
      "metadata": {
        "id": "7ezztLdO0nRV"
      },
      "execution_count": 35,
      "outputs": []
    },
    {
      "cell_type": "code",
      "source": [
        "# Train the model\n",
        "\n",
        "model_resnet = model_res.fit(\n",
        "    train_dataset,\n",
        "    validation_data=val_dataset,\n",
        "    epochs=50,\n",
        "    callbacks=[early_stopping, reduce_lr, model_checkpoint]\n",
        ")"
      ],
      "metadata": {
        "colab": {
          "base_uri": "https://localhost:8080/"
        },
        "id": "0oNnKa_s0nk4",
        "outputId": "6af0313e-d0d1-4fb6-f1b2-df79995a9d1a"
      },
      "execution_count": 36,
      "outputs": [
        {
          "output_type": "stream",
          "name": "stdout",
          "text": [
            "Epoch 1/50\n",
            "66/66 [==============================] - ETA: 0s - loss: 2.3889 - accuracy: 0.3743\n",
            "Epoch 1: val_accuracy improved from -inf to 0.36944, saving model to best_skin_disease_model.h5\n"
          ]
        },
        {
          "output_type": "stream",
          "name": "stderr",
          "text": [
            "/usr/local/lib/python3.10/dist-packages/keras/src/engine/training.py:3103: UserWarning: You are saving your model as an HDF5 file via `model.save()`. This file format is considered legacy. We recommend using instead the native Keras format, e.g. `model.save('my_model.keras')`.\n",
            "  saving_api.save_model(\n"
          ]
        },
        {
          "output_type": "stream",
          "name": "stdout",
          "text": [
            "\b\b\b\b\b\b\b\b\b\b\b\b\b\b\b\b\b\b\b\b\b\b\b\b\b\b\b\b\b\b\b\b\b\b\b\b\b\b\b\b\b\b\b\b\b\b\b\b\b\b\b\b\b\b\b\b\b\b\b\b\b\b\b\b\b\b\b\b\b\b\b\b\b\b\b\b\b\b\b\b\b\b\r66/66 [==============================] - 589s 9s/step - loss: 2.3889 - accuracy: 0.3743 - val_loss: 2.0680 - val_accuracy: 0.3694 - lr: 0.0010\n",
            "Epoch 2/50\n",
            "66/66 [==============================] - ETA: 0s - loss: 1.4919 - accuracy: 0.5416\n",
            "Epoch 2: val_accuracy improved from 0.36944 to 0.39072, saving model to best_skin_disease_model.h5\n",
            "66/66 [==============================] - 557s 8s/step - loss: 1.4919 - accuracy: 0.5416 - val_loss: 2.0771 - val_accuracy: 0.3907 - lr: 0.0010\n",
            "Epoch 3/50\n",
            "66/66 [==============================] - ETA: 0s - loss: 1.1581 - accuracy: 0.6444\n",
            "Epoch 3: val_accuracy improved from 0.39072 to 0.41586, saving model to best_skin_disease_model.h5\n",
            "66/66 [==============================] - 559s 9s/step - loss: 1.1581 - accuracy: 0.6444 - val_loss: 2.1410 - val_accuracy: 0.4159 - lr: 0.0010\n",
            "Epoch 4/50\n",
            "66/66 [==============================] - ETA: 0s - loss: 0.8669 - accuracy: 0.7337\n",
            "Epoch 4: val_accuracy did not improve from 0.41586\n",
            "66/66 [==============================] - 572s 9s/step - loss: 0.8669 - accuracy: 0.7337 - val_loss: 2.1123 - val_accuracy: 0.3985 - lr: 0.0010\n",
            "Epoch 5/50\n",
            "66/66 [==============================] - ETA: 0s - loss: 0.7115 - accuracy: 0.7839\n",
            "Epoch 5: val_accuracy did not improve from 0.41586\n",
            "66/66 [==============================] - 567s 9s/step - loss: 0.7115 - accuracy: 0.7839 - val_loss: 2.2517 - val_accuracy: 0.4081 - lr: 0.0010\n",
            "Epoch 6/50\n",
            "66/66 [==============================] - ETA: 0s - loss: 0.5086 - accuracy: 0.8499\n",
            "Epoch 6: ReduceLROnPlateau reducing learning rate to 0.00020000000949949026.\n",
            "\n",
            "Epoch 6: val_accuracy did not improve from 0.41586\n",
            "66/66 [==============================] - 606s 9s/step - loss: 0.5086 - accuracy: 0.8499 - val_loss: 2.3856 - val_accuracy: 0.4043 - lr: 0.0010\n",
            "Epoch 7/50\n",
            "66/66 [==============================] - ETA: 0s - loss: 0.2687 - accuracy: 0.9374\n",
            "Epoch 7: val_accuracy improved from 0.41586 to 0.41973, saving model to best_skin_disease_model.h5\n",
            "66/66 [==============================] - 551s 8s/step - loss: 0.2687 - accuracy: 0.9374 - val_loss: 2.3417 - val_accuracy: 0.4197 - lr: 2.0000e-04\n",
            "Epoch 8/50\n",
            "66/66 [==============================] - ETA: 0s - loss: 0.2226 - accuracy: 0.9522\n",
            "Epoch 8: val_accuracy did not improve from 0.41973\n",
            "66/66 [==============================] - 564s 9s/step - loss: 0.2226 - accuracy: 0.9522 - val_loss: 2.4241 - val_accuracy: 0.4120 - lr: 2.0000e-04\n",
            "Epoch 9/50\n",
            "66/66 [==============================] - ETA: 0s - loss: 0.1981 - accuracy: 0.9608\n",
            "Epoch 9: val_accuracy did not improve from 0.41973\n",
            "66/66 [==============================] - 573s 9s/step - loss: 0.1981 - accuracy: 0.9608 - val_loss: 2.4387 - val_accuracy: 0.4159 - lr: 2.0000e-04\n",
            "Epoch 10/50\n",
            "66/66 [==============================] - ETA: 0s - loss: 0.1816 - accuracy: 0.9656\n",
            "Epoch 10: val_accuracy did not improve from 0.41973\n",
            "66/66 [==============================] - 553s 8s/step - loss: 0.1816 - accuracy: 0.9656 - val_loss: 2.4523 - val_accuracy: 0.4120 - lr: 2.0000e-04\n",
            "Epoch 11/50\n",
            "66/66 [==============================] - ETA: 0s - loss: 0.1658 - accuracy: 0.9699Restoring model weights from the end of the best epoch: 1.\n",
            "\n",
            "Epoch 11: ReduceLROnPlateau reducing learning rate to 4.0000001899898055e-05.\n",
            "\n",
            "Epoch 11: val_accuracy did not improve from 0.41973\n",
            "66/66 [==============================] - 564s 9s/step - loss: 0.1658 - accuracy: 0.9699 - val_loss: 2.5218 - val_accuracy: 0.4101 - lr: 2.0000e-04\n",
            "Epoch 11: early stopping\n"
          ]
        }
      ]
    },
    {
      "cell_type": "code",
      "source": [
        "input_directory = '/content/drive/MyDrive/skin_disease/test'\n",
        "output_directory = '/content/drive/MyDrive/skin_disease/test_resize'\n",
        "target_size = (224, 224)"
      ],
      "metadata": {
        "id": "kqXBvC_Mnh7K"
      },
      "execution_count": 48,
      "outputs": []
    },
    {
      "cell_type": "code",
      "source": [
        "preprocess_images(input_directory, output_directory, target_size)"
      ],
      "metadata": {
        "colab": {
          "base_uri": "https://localhost:8080/"
        },
        "id": "6FCT2PcGnh0C",
        "outputId": "9380ca67-4adf-4a87-8752-ec906294c09f"
      },
      "execution_count": 49,
      "outputs": [
        {
          "output_type": "stream",
          "name": "stdout",
          "text": [
            "Preprocessing completed! Successfully processed 691 out of 691 images.\n"
          ]
        }
      ]
    },
    {
      "cell_type": "code",
      "source": [
        "test_datagen = ImageDataGenerator()\n",
        "\n",
        "test_dataset = test_datagen.flow_from_directory(\n",
        "    output_directory,\n",
        "    target_size=target_size,\n",
        "    batch_size=batch_size,\n",
        "    class_mode='categorical',\n",
        "    shuffle=False\n",
        ")"
      ],
      "metadata": {
        "colab": {
          "base_uri": "https://localhost:8080/"
        },
        "id": "JhT3OUyjnhlE",
        "outputId": "1963d16e-051e-4b48-f010-7be1372e29a9"
      },
      "execution_count": 50,
      "outputs": [
        {
          "output_type": "stream",
          "name": "stdout",
          "text": [
            "Found 691 images belonging to 19 classes.\n"
          ]
        }
      ]
    },
    {
      "cell_type": "code",
      "source": [
        "# After training, to load the best model:\n",
        "best_model = tf.keras.models.load_model('best_skin_disease_model.h5')\n",
        "\n",
        "# Evaluate using the best model\n",
        "test_loss, test_accuracy = best_model.evaluate(test_dataset)\n",
        "print(f\"Test accuracy using best model: {test_accuracy:.4f}\")"
      ],
      "metadata": {
        "colab": {
          "base_uri": "https://localhost:8080/"
        },
        "id": "PCCzdQf_1MTh",
        "outputId": "9b658f8f-ff5d-4fef-9224-2360242ca21b"
      },
      "execution_count": 51,
      "outputs": [
        {
          "output_type": "stream",
          "name": "stdout",
          "text": [
            "22/22 [==============================] - 145s 6s/step - loss: 1.6461 - accuracy: 0.5557\n",
            "Test accuracy using best model: 0.5557\n"
          ]
        }
      ]
    },
    {
      "cell_type": "code",
      "source": [
        "predictions = best_model.predict(test_dataset)"
      ],
      "metadata": {
        "colab": {
          "base_uri": "https://localhost:8080/"
        },
        "id": "nOKcoOc0pgOd",
        "outputId": "ac4f0d58-83b6-4deb-d311-9500079cec19"
      },
      "execution_count": 52,
      "outputs": [
        {
          "output_type": "stream",
          "name": "stdout",
          "text": [
            "22/22 [==============================] - 145s 6s/step\n"
          ]
        }
      ]
    },
    {
      "cell_type": "code",
      "source": [
        "predicted_classes = np.argmax(predictions, axis=1)"
      ],
      "metadata": {
        "id": "-Nx2iOh8sp9M"
      },
      "execution_count": 54,
      "outputs": []
    },
    {
      "cell_type": "code",
      "source": [
        "class_indices = test_dataset.class_indices\n",
        "class_labels = {v: k for k, v in class_indices.items()}  # Invert the dictionary\n",
        "predicted_labels = [class_labels[i] for i in predicted_classes]\n",
        "\n",
        "print(\"Predictions (class labels):\", predicted_labels)"
      ],
      "metadata": {
        "colab": {
          "base_uri": "https://localhost:8080/"
        },
        "id": "WUhJP9WAsuOT",
        "outputId": "45b8f173-53a5-4f58-ea92-25f6631e5e31"
      },
      "execution_count": 58,
      "outputs": [
        {
          "output_type": "stream",
          "name": "stdout",
          "text": [
            "Predictions (class labels): ['Acne and Rosacea Photos', 'Acne and Rosacea Photos', 'Poison Ivy Photos and other Contact Dermatitis', 'Acne and Rosacea Photos', 'Acne and Rosacea Photos', 'Tinea Ringworm Candidiasis and other Fungal Infections', 'Acne and Rosacea Photos', 'Vascular Tumors', 'Light Diseases and Disorders of Pigmentation', 'Actinic Keratosis Basal Cell Carcinoma and other Malignant Lesions', 'Acne and Rosacea Photos', 'Acne and Rosacea Photos', 'Acne and Rosacea Photos', 'Acne and Rosacea Photos', 'Acne and Rosacea Photos', 'Light Diseases and Disorders of Pigmentation', 'Acne and Rosacea Photos', 'Acne and Rosacea Photos', 'Acne and Rosacea Photos', 'Acne and Rosacea Photos', 'Acne and Rosacea Photos', 'Light Diseases and Disorders of Pigmentation', 'Light Diseases and Disorders of Pigmentation', 'Acne and Rosacea Photos', 'Acne and Rosacea Photos', 'Warts Molluscum and other Viral Infections', 'Actinic Keratosis Basal Cell Carcinoma and other Malignant Lesions', 'Acne and Rosacea Photos', 'Acne and Rosacea Photos', 'Acne and Rosacea Photos', 'Acne and Rosacea Photos', 'Acne and Rosacea Photos', 'Acne and Rosacea Photos', 'Acne and Rosacea Photos', 'Acne and Rosacea Photos', 'Cellulitis Impetigo and other Bacterial Infections', 'Acne and Rosacea Photos', 'Acne and Rosacea Photos', 'Acne and Rosacea Photos', 'Cellulitis Impetigo and other Bacterial Infections', 'Acne and Rosacea Photos', 'Acne and Rosacea Photos', 'Poison Ivy Photos and other Contact Dermatitis', 'Acne and Rosacea Photos', 'Acne and Rosacea Photos', 'Acne and Rosacea Photos', 'Acne and Rosacea Photos', 'Acne and Rosacea Photos', 'Acne and Rosacea Photos', 'Acne and Rosacea Photos', 'Acne and Rosacea Photos', 'Acne and Rosacea Photos', 'Acne and Rosacea Photos', 'Acne and Rosacea Photos', 'Acne and Rosacea Photos', 'Acne and Rosacea Photos', 'Acne and Rosacea Photos', 'Warts Molluscum and other Viral Infections', 'Warts Molluscum and other Viral Infections', 'Acne and Rosacea Photos', 'Acne and Rosacea Photos', 'Acne and Rosacea Photos', 'Acne and Rosacea Photos', 'Acne and Rosacea Photos', 'Acne and Rosacea Photos', 'Acne and Rosacea Photos', 'Acne and Rosacea Photos', 'Acne and Rosacea Photos', 'Acne and Rosacea Photos', 'Acne and Rosacea Photos', 'Light Diseases and Disorders of Pigmentation', 'Acne and Rosacea Photos', 'Acne and Rosacea Photos', 'Acne and Rosacea Photos', 'Warts Molluscum and other Viral Infections', 'Tinea Ringworm Candidiasis and other Fungal Infections', 'Acne and Rosacea Photos', 'Acne and Rosacea Photos', 'Acne and Rosacea Photos', 'Acne and Rosacea Photos', 'Acne and Rosacea Photos', 'Acne and Rosacea Photos', 'Acne and Rosacea Photos', 'Acne and Rosacea Photos', 'Acne and Rosacea Photos', 'Acne and Rosacea Photos', 'Acne and Rosacea Photos', 'Acne and Rosacea Photos', 'Acne and Rosacea Photos', 'Acne and Rosacea Photos', 'Acne and Rosacea Photos', 'Acne and Rosacea Photos', 'Acne and Rosacea Photos', 'Acne and Rosacea Photos', 'Acne and Rosacea Photos', 'Acne and Rosacea Photos', 'Acne and Rosacea Photos', 'Acne and Rosacea Photos', 'Acne and Rosacea Photos', 'Acne and Rosacea Photos', 'Acne and Rosacea Photos', 'Acne and Rosacea Photos', 'Acne and Rosacea Photos', 'Acne and Rosacea Photos', 'Acne and Rosacea Photos', 'Acne and Rosacea Photos', 'Acne and Rosacea Photos', 'Acne and Rosacea Photos', 'Acne and Rosacea Photos', 'Acne and Rosacea Photos', 'Acne and Rosacea Photos', 'Warts Molluscum and other Viral Infections', 'Acne and Rosacea Photos', 'Acne and Rosacea Photos', 'Acne and Rosacea Photos', 'Acne and Rosacea Photos', 'Acne and Rosacea Photos', 'Acne and Rosacea Photos', 'Acne and Rosacea Photos', 'Acne and Rosacea Photos', 'Acne and Rosacea Photos', 'Acne and Rosacea Photos', 'Acne and Rosacea Photos', 'Acne and Rosacea Photos', 'Acne and Rosacea Photos', 'Acne and Rosacea Photos', 'Acne and Rosacea Photos', 'Acne and Rosacea Photos', 'Acne and Rosacea Photos', 'Acne and Rosacea Photos', 'Acne and Rosacea Photos', 'Acne and Rosacea Photos', 'Acne and Rosacea Photos', 'Acne and Rosacea Photos', 'Acne and Rosacea Photos', 'Acne and Rosacea Photos', 'Acne and Rosacea Photos', 'Acne and Rosacea Photos', 'Acne and Rosacea Photos', 'Acne and Rosacea Photos', 'Acne and Rosacea Photos', 'Acne and Rosacea Photos', 'Acne and Rosacea Photos', 'Acne and Rosacea Photos', 'Acne and Rosacea Photos', 'Acne and Rosacea Photos', 'Acne and Rosacea Photos', 'Acne and Rosacea Photos', 'Light Diseases and Disorders of Pigmentation', 'Acne and Rosacea Photos', 'Acne and Rosacea Photos', 'Acne and Rosacea Photos', 'Acne and Rosacea Photos', 'Acne and Rosacea Photos', 'Acne and Rosacea Photos', 'Acne and Rosacea Photos', 'Acne and Rosacea Photos', 'Acne and Rosacea Photos', 'Acne and Rosacea Photos', 'Psoriasis pictures Lichen Planus and related diseases', 'Acne and Rosacea Photos', 'Lupus and other Connective Tissue diseases', 'Acne and Rosacea Photos', 'Acne and Rosacea Photos', 'Acne and Rosacea Photos', 'Acne and Rosacea Photos', 'Acne and Rosacea Photos', 'Acne and Rosacea Photos', 'Acne and Rosacea Photos', 'Acne and Rosacea Photos', 'Acne and Rosacea Photos', 'Acne and Rosacea Photos', 'Acne and Rosacea Photos', 'Acne and Rosacea Photos', 'Acne and Rosacea Photos', 'Acne and Rosacea Photos', 'Acne and Rosacea Photos', 'Acne and Rosacea Photos', 'Acne and Rosacea Photos', 'Acne and Rosacea Photos', 'Acne and Rosacea Photos', 'Acne and Rosacea Photos', 'Acne and Rosacea Photos', 'Poison Ivy Photos and other Contact Dermatitis', 'Acne and Rosacea Photos', 'Acne and Rosacea Photos', 'Acne and Rosacea Photos', 'Acne and Rosacea Photos', 'Acne and Rosacea Photos', 'Acne and Rosacea Photos', 'Systemic Disease', 'Acne and Rosacea Photos', 'Poison Ivy Photos and other Contact Dermatitis', 'Acne and Rosacea Photos', 'Acne and Rosacea Photos', 'Acne and Rosacea Photos', 'Acne and Rosacea Photos', 'Actinic Keratosis Basal Cell Carcinoma and other Malignant Lesions', 'Acne and Rosacea Photos', 'Acne and Rosacea Photos', 'Actinic Keratosis Basal Cell Carcinoma and other Malignant Lesions', 'Acne and Rosacea Photos', 'Actinic Keratosis Basal Cell Carcinoma and other Malignant Lesions', 'Acne and Rosacea Photos', 'Acne and Rosacea Photos', 'Acne and Rosacea Photos', 'Acne and Rosacea Photos', 'Acne and Rosacea Photos', 'Acne and Rosacea Photos', 'Psoriasis pictures Lichen Planus and related diseases', 'Acne and Rosacea Photos', 'Acne and Rosacea Photos', 'Acne and Rosacea Photos', 'Acne and Rosacea Photos', 'Acne and Rosacea Photos', 'Acne and Rosacea Photos', 'Acne and Rosacea Photos', 'Acne and Rosacea Photos', 'Actinic Keratosis Basal Cell Carcinoma and other Malignant Lesions', 'Acne and Rosacea Photos', 'Acne and Rosacea Photos', 'Acne and Rosacea Photos', 'Acne and Rosacea Photos', 'Acne and Rosacea Photos', 'Acne and Rosacea Photos', 'Acne and Rosacea Photos', 'Actinic Keratosis Basal Cell Carcinoma and other Malignant Lesions', 'Acne and Rosacea Photos', 'Acne and Rosacea Photos', 'Acne and Rosacea Photos', 'Acne and Rosacea Photos', 'Vascular Tumors', 'Actinic Keratosis Basal Cell Carcinoma and other Malignant Lesions', 'Light Diseases and Disorders of Pigmentation', 'Tinea Ringworm Candidiasis and other Fungal Infections', 'Lupus and other Connective Tissue diseases', 'Actinic Keratosis Basal Cell Carcinoma and other Malignant Lesions', 'Systemic Disease', 'Actinic Keratosis Basal Cell Carcinoma and other Malignant Lesions', 'Acne and Rosacea Photos', 'Acne and Rosacea Photos', 'Vascular Tumors', 'Actinic Keratosis Basal Cell Carcinoma and other Malignant Lesions', 'Actinic Keratosis Basal Cell Carcinoma and other Malignant Lesions', 'Tinea Ringworm Candidiasis and other Fungal Infections', 'Actinic Keratosis Basal Cell Carcinoma and other Malignant Lesions', 'Actinic Keratosis Basal Cell Carcinoma and other Malignant Lesions', 'Acne and Rosacea Photos', 'Acne and Rosacea Photos', 'Actinic Keratosis Basal Cell Carcinoma and other Malignant Lesions', 'Actinic Keratosis Basal Cell Carcinoma and other Malignant Lesions', 'Actinic Keratosis Basal Cell Carcinoma and other Malignant Lesions', 'Light Diseases and Disorders of Pigmentation', 'Actinic Keratosis Basal Cell Carcinoma and other Malignant Lesions', 'Actinic Keratosis Basal Cell Carcinoma and other Malignant Lesions', 'Actinic Keratosis Basal Cell Carcinoma and other Malignant Lesions', 'Actinic Keratosis Basal Cell Carcinoma and other Malignant Lesions', 'Actinic Keratosis Basal Cell Carcinoma and other Malignant Lesions', 'Actinic Keratosis Basal Cell Carcinoma and other Malignant Lesions', 'Light Diseases and Disorders of Pigmentation', 'Actinic Keratosis Basal Cell Carcinoma and other Malignant Lesions', 'Actinic Keratosis Basal Cell Carcinoma and other Malignant Lesions', 'Atopic Dermatitis Photos', 'Actinic Keratosis Basal Cell Carcinoma and other Malignant Lesions', 'Acne and Rosacea Photos', 'Actinic Keratosis Basal Cell Carcinoma and other Malignant Lesions', 'Actinic Keratosis Basal Cell Carcinoma and other Malignant Lesions', 'Acne and Rosacea Photos', 'Actinic Keratosis Basal Cell Carcinoma and other Malignant Lesions', 'Acne and Rosacea Photos', 'Actinic Keratosis Basal Cell Carcinoma and other Malignant Lesions', 'Actinic Keratosis Basal Cell Carcinoma and other Malignant Lesions', 'Actinic Keratosis Basal Cell Carcinoma and other Malignant Lesions', 'Actinic Keratosis Basal Cell Carcinoma and other Malignant Lesions', 'Actinic Keratosis Basal Cell Carcinoma and other Malignant Lesions', 'Actinic Keratosis Basal Cell Carcinoma and other Malignant Lesions', 'Actinic Keratosis Basal Cell Carcinoma and other Malignant Lesions', 'Actinic Keratosis Basal Cell Carcinoma and other Malignant Lesions', 'Actinic Keratosis Basal Cell Carcinoma and other Malignant Lesions', 'Actinic Keratosis Basal Cell Carcinoma and other Malignant Lesions', 'Actinic Keratosis Basal Cell Carcinoma and other Malignant Lesions', 'Actinic Keratosis Basal Cell Carcinoma and other Malignant Lesions', 'Actinic Keratosis Basal Cell Carcinoma and other Malignant Lesions', 'Actinic Keratosis Basal Cell Carcinoma and other Malignant Lesions', 'Acne and Rosacea Photos', 'Actinic Keratosis Basal Cell Carcinoma and other Malignant Lesions', 'Actinic Keratosis Basal Cell Carcinoma and other Malignant Lesions', 'Actinic Keratosis Basal Cell Carcinoma and other Malignant Lesions', 'Light Diseases and Disorders of Pigmentation', 'Actinic Keratosis Basal Cell Carcinoma and other Malignant Lesions', 'Actinic Keratosis Basal Cell Carcinoma and other Malignant Lesions', 'Actinic Keratosis Basal Cell Carcinoma and other Malignant Lesions', 'Actinic Keratosis Basal Cell Carcinoma and other Malignant Lesions', 'Actinic Keratosis Basal Cell Carcinoma and other Malignant Lesions', 'Actinic Keratosis Basal Cell Carcinoma and other Malignant Lesions', 'Actinic Keratosis Basal Cell Carcinoma and other Malignant Lesions', 'Actinic Keratosis Basal Cell Carcinoma and other Malignant Lesions', 'Acne and Rosacea Photos', 'Actinic Keratosis Basal Cell Carcinoma and other Malignant Lesions', 'Tinea Ringworm Candidiasis and other Fungal Infections', 'Actinic Keratosis Basal Cell Carcinoma and other Malignant Lesions', 'Actinic Keratosis Basal Cell Carcinoma and other Malignant Lesions', 'Systemic Disease', 'Actinic Keratosis Basal Cell Carcinoma and other Malignant Lesions', 'Cellulitis Impetigo and other Bacterial Infections', 'Acne and Rosacea Photos', 'Actinic Keratosis Basal Cell Carcinoma and other Malignant Lesions', 'Actinic Keratosis Basal Cell Carcinoma and other Malignant Lesions', 'Actinic Keratosis Basal Cell Carcinoma and other Malignant Lesions', 'Actinic Keratosis Basal Cell Carcinoma and other Malignant Lesions', 'Eczema Photos', 'Actinic Keratosis Basal Cell Carcinoma and other Malignant Lesions', 'Actinic Keratosis Basal Cell Carcinoma and other Malignant Lesions', 'Actinic Keratosis Basal Cell Carcinoma and other Malignant Lesions', 'Actinic Keratosis Basal Cell Carcinoma and other Malignant Lesions', 'Actinic Keratosis Basal Cell Carcinoma and other Malignant Lesions', 'Actinic Keratosis Basal Cell Carcinoma and other Malignant Lesions', 'Actinic Keratosis Basal Cell Carcinoma and other Malignant Lesions', 'Actinic Keratosis Basal Cell Carcinoma and other Malignant Lesions', 'Warts Molluscum and other Viral Infections', 'Warts Molluscum and other Viral Infections', 'Actinic Keratosis Basal Cell Carcinoma and other Malignant Lesions', 'Actinic Keratosis Basal Cell Carcinoma and other Malignant Lesions', 'Actinic Keratosis Basal Cell Carcinoma and other Malignant Lesions', 'Actinic Keratosis Basal Cell Carcinoma and other Malignant Lesions', 'Actinic Keratosis Basal Cell Carcinoma and other Malignant Lesions', 'Actinic Keratosis Basal Cell Carcinoma and other Malignant Lesions', 'Actinic Keratosis Basal Cell Carcinoma and other Malignant Lesions', 'Warts Molluscum and other Viral Infections', 'Acne and Rosacea Photos', 'Actinic Keratosis Basal Cell Carcinoma and other Malignant Lesions', 'Actinic Keratosis Basal Cell Carcinoma and other Malignant Lesions', 'Light Diseases and Disorders of Pigmentation', 'Actinic Keratosis Basal Cell Carcinoma and other Malignant Lesions', 'Actinic Keratosis Basal Cell Carcinoma and other Malignant Lesions', 'Actinic Keratosis Basal Cell Carcinoma and other Malignant Lesions', 'Actinic Keratosis Basal Cell Carcinoma and other Malignant Lesions', 'Actinic Keratosis Basal Cell Carcinoma and other Malignant Lesions', 'Actinic Keratosis Basal Cell Carcinoma and other Malignant Lesions', 'Actinic Keratosis Basal Cell Carcinoma and other Malignant Lesions', 'Actinic Keratosis Basal Cell Carcinoma and other Malignant Lesions', 'Actinic Keratosis Basal Cell Carcinoma and other Malignant Lesions', 'Actinic Keratosis Basal Cell Carcinoma and other Malignant Lesions', 'Actinic Keratosis Basal Cell Carcinoma and other Malignant Lesions', 'Actinic Keratosis Basal Cell Carcinoma and other Malignant Lesions', 'Actinic Keratosis Basal Cell Carcinoma and other Malignant Lesions', 'Actinic Keratosis Basal Cell Carcinoma and other Malignant Lesions', 'Warts Molluscum and other Viral Infections', 'Actinic Keratosis Basal Cell Carcinoma and other Malignant Lesions', 'Actinic Keratosis Basal Cell Carcinoma and other Malignant Lesions', 'Actinic Keratosis Basal Cell Carcinoma and other Malignant Lesions', 'Systemic Disease', 'Acne and Rosacea Photos', 'Acne and Rosacea Photos', 'Atopic Dermatitis Photos', 'Atopic Dermatitis Photos', 'Atopic Dermatitis Photos', 'Atopic Dermatitis Photos', 'Atopic Dermatitis Photos', 'Acne and Rosacea Photos', 'Systemic Disease', 'Atopic Dermatitis Photos', 'Atopic Dermatitis Photos', 'Atopic Dermatitis Photos', 'Atopic Dermatitis Photos', 'Atopic Dermatitis Photos', 'Atopic Dermatitis Photos', 'Acne and Rosacea Photos', 'Atopic Dermatitis Photos', 'Atopic Dermatitis Photos', 'Atopic Dermatitis Photos', 'Atopic Dermatitis Photos', 'Poison Ivy Photos and other Contact Dermatitis', 'Atopic Dermatitis Photos', 'Systemic Disease', 'Poison Ivy Photos and other Contact Dermatitis', 'Lupus and other Connective Tissue diseases', 'Lupus and other Connective Tissue diseases', 'Actinic Keratosis Basal Cell Carcinoma and other Malignant Lesions', 'Tinea Ringworm Candidiasis and other Fungal Infections', 'Herpes HPV and other STDs Photos', 'Cellulitis Impetigo and other Bacterial Infections', 'Tinea Ringworm Candidiasis and other Fungal Infections', 'Acne and Rosacea Photos', 'Warts Molluscum and other Viral Infections', 'Atopic Dermatitis Photos', 'Warts Molluscum and other Viral Infections', 'Atopic Dermatitis Photos', 'Atopic Dermatitis Photos', 'Systemic Disease', 'Actinic Keratosis Basal Cell Carcinoma and other Malignant Lesions', 'Poison Ivy Photos and other Contact Dermatitis', 'Seborrheic Keratoses and other Benign Tumors', 'Lupus and other Connective Tissue diseases', 'Exanthems and Drug Eruptions', 'Acne and Rosacea Photos', 'Warts Molluscum and other Viral Infections', 'Warts Molluscum and other Viral Infections', 'Warts Molluscum and other Viral Infections', 'Poison Ivy Photos and other Contact Dermatitis', 'Warts Molluscum and other Viral Infections', 'Warts Molluscum and other Viral Infections', 'Warts Molluscum and other Viral Infections', 'Acne and Rosacea Photos', 'Actinic Keratosis Basal Cell Carcinoma and other Malignant Lesions', 'Acne and Rosacea Photos', 'Lupus and other Connective Tissue diseases', 'Light Diseases and Disorders of Pigmentation', 'Warts Molluscum and other Viral Infections', 'Acne and Rosacea Photos', 'Light Diseases and Disorders of Pigmentation', 'Acne and Rosacea Photos', 'Acne and Rosacea Photos', 'Light Diseases and Disorders of Pigmentation', 'Acne and Rosacea Photos', 'Actinic Keratosis Basal Cell Carcinoma and other Malignant Lesions', 'Acne and Rosacea Photos', 'Acne and Rosacea Photos', 'Acne and Rosacea Photos', 'Acne and Rosacea Photos', 'Psoriasis pictures Lichen Planus and related diseases', 'Light Diseases and Disorders of Pigmentation', 'Light Diseases and Disorders of Pigmentation', 'Light Diseases and Disorders of Pigmentation', 'Light Diseases and Disorders of Pigmentation', 'Vascular Tumors', 'Light Diseases and Disorders of Pigmentation', 'Lupus and other Connective Tissue diseases', 'Light Diseases and Disorders of Pigmentation', 'Acne and Rosacea Photos', 'Light Diseases and Disorders of Pigmentation', 'Light Diseases and Disorders of Pigmentation', 'Acne and Rosacea Photos', 'Acne and Rosacea Photos', 'Actinic Keratosis Basal Cell Carcinoma and other Malignant Lesions', 'Light Diseases and Disorders of Pigmentation', 'Tinea Ringworm Candidiasis and other Fungal Infections', 'Acne and Rosacea Photos', 'Warts Molluscum and other Viral Infections', 'Acne and Rosacea Photos', 'Acne and Rosacea Photos', 'Psoriasis pictures Lichen Planus and related diseases', 'Acne and Rosacea Photos', 'Acne and Rosacea Photos', 'Lupus and other Connective Tissue diseases', 'Actinic Keratosis Basal Cell Carcinoma and other Malignant Lesions', 'Acne and Rosacea Photos', 'Lupus and other Connective Tissue diseases', 'Lupus and other Connective Tissue diseases', 'Systemic Disease', 'Systemic Disease', 'Lupus and other Connective Tissue diseases', 'Lupus and other Connective Tissue diseases', 'Lupus and other Connective Tissue diseases', 'Lupus and other Connective Tissue diseases', 'Light Diseases and Disorders of Pigmentation', 'Lupus and other Connective Tissue diseases', 'Acne and Rosacea Photos', 'Acne and Rosacea Photos', 'Atopic Dermatitis Photos', 'Warts Molluscum and other Viral Infections', 'Acne and Rosacea Photos', 'Acne and Rosacea Photos', 'Acne and Rosacea Photos', 'Acne and Rosacea Photos', 'Light Diseases and Disorders of Pigmentation', 'Acne and Rosacea Photos', 'Vascular Tumors', 'Lupus and other Connective Tissue diseases', 'Actinic Keratosis Basal Cell Carcinoma and other Malignant Lesions', 'Warts Molluscum and other Viral Infections', 'Psoriasis pictures Lichen Planus and related diseases', 'Acne and Rosacea Photos', 'Poison Ivy Photos and other Contact Dermatitis', 'Systemic Disease', 'Poison Ivy Photos and other Contact Dermatitis', 'Systemic Disease', 'Psoriasis pictures Lichen Planus and related diseases', 'Psoriasis pictures Lichen Planus and related diseases', 'Psoriasis pictures Lichen Planus and related diseases', 'Acne and Rosacea Photos', 'Light Diseases and Disorders of Pigmentation', 'Tinea Ringworm Candidiasis and other Fungal Infections', 'Warts Molluscum and other Viral Infections', 'Light Diseases and Disorders of Pigmentation', 'Actinic Keratosis Basal Cell Carcinoma and other Malignant Lesions', 'Actinic Keratosis Basal Cell Carcinoma and other Malignant Lesions', 'Psoriasis pictures Lichen Planus and related diseases', 'Atopic Dermatitis Photos', 'Acne and Rosacea Photos', 'Psoriasis pictures Lichen Planus and related diseases', 'Psoriasis pictures Lichen Planus and related diseases', 'Psoriasis pictures Lichen Planus and related diseases', 'Actinic Keratosis Basal Cell Carcinoma and other Malignant Lesions', 'Lupus and other Connective Tissue diseases', 'Psoriasis pictures Lichen Planus and related diseases', 'Psoriasis pictures Lichen Planus and related diseases', 'Actinic Keratosis Basal Cell Carcinoma and other Malignant Lesions', 'Psoriasis pictures Lichen Planus and related diseases', 'Actinic Keratosis Basal Cell Carcinoma and other Malignant Lesions', 'Actinic Keratosis Basal Cell Carcinoma and other Malignant Lesions', 'Light Diseases and Disorders of Pigmentation', 'Light Diseases and Disorders of Pigmentation', 'Seborrheic Keratoses and other Benign Tumors', 'Poison Ivy Photos and other Contact Dermatitis', 'Atopic Dermatitis Photos', 'Warts Molluscum and other Viral Infections', 'Warts Molluscum and other Viral Infections', 'Lupus and other Connective Tissue diseases', 'Acne and Rosacea Photos', 'Lupus and other Connective Tissue diseases', 'Vascular Tumors', 'Vascular Tumors', 'Actinic Keratosis Basal Cell Carcinoma and other Malignant Lesions', 'Psoriasis pictures Lichen Planus and related diseases', 'Seborrheic Keratoses and other Benign Tumors', 'Systemic Disease', 'Seborrheic Keratoses and other Benign Tumors', 'Light Diseases and Disorders of Pigmentation', 'Seborrheic Keratoses and other Benign Tumors', 'Acne and Rosacea Photos', 'Acne and Rosacea Photos', 'Actinic Keratosis Basal Cell Carcinoma and other Malignant Lesions', 'Actinic Keratosis Basal Cell Carcinoma and other Malignant Lesions', 'Actinic Keratosis Basal Cell Carcinoma and other Malignant Lesions', 'Seborrheic Keratoses and other Benign Tumors', 'Vascular Tumors', 'Seborrheic Keratoses and other Benign Tumors', 'Seborrheic Keratoses and other Benign Tumors', 'Light Diseases and Disorders of Pigmentation', 'Acne and Rosacea Photos', 'Psoriasis pictures Lichen Planus and related diseases', 'Tinea Ringworm Candidiasis and other Fungal Infections', 'Lupus and other Connective Tissue diseases', 'Seborrheic Keratoses and other Benign Tumors', 'Acne and Rosacea Photos', 'Cellulitis Impetigo and other Bacterial Infections', 'Warts Molluscum and other Viral Infections', 'Light Diseases and Disorders of Pigmentation', 'Systemic Disease', 'Actinic Keratosis Basal Cell Carcinoma and other Malignant Lesions', 'Systemic Disease', 'Systemic Disease', 'Acne and Rosacea Photos', 'Acne and Rosacea Photos', 'Systemic Disease', 'Lupus and other Connective Tissue diseases', 'Systemic Disease', 'Systemic Disease', 'Acne and Rosacea Photos', 'Vascular Tumors', 'Systemic Disease', 'Eczema Photos', 'Actinic Keratosis Basal Cell Carcinoma and other Malignant Lesions', 'Seborrheic Keratoses and other Benign Tumors', 'Actinic Keratosis Basal Cell Carcinoma and other Malignant Lesions', 'Actinic Keratosis Basal Cell Carcinoma and other Malignant Lesions', 'Systemic Disease', 'Poison Ivy Photos and other Contact Dermatitis', 'Lupus and other Connective Tissue diseases', 'Warts Molluscum and other Viral Infections', 'Tinea Ringworm Candidiasis and other Fungal Infections', 'Actinic Keratosis Basal Cell Carcinoma and other Malignant Lesions', 'Actinic Keratosis Basal Cell Carcinoma and other Malignant Lesions', 'Actinic Keratosis Basal Cell Carcinoma and other Malignant Lesions', 'Tinea Ringworm Candidiasis and other Fungal Infections', 'Poison Ivy Photos and other Contact Dermatitis', 'Acne and Rosacea Photos', 'Tinea Ringworm Candidiasis and other Fungal Infections', 'Tinea Ringworm Candidiasis and other Fungal Infections', 'Acne and Rosacea Photos', 'Tinea Ringworm Candidiasis and other Fungal Infections', 'Tinea Ringworm Candidiasis and other Fungal Infections', 'Acne and Rosacea Photos', 'Poison Ivy Photos and other Contact Dermatitis', 'Tinea Ringworm Candidiasis and other Fungal Infections', 'Tinea Ringworm Candidiasis and other Fungal Infections', 'Vascular Tumors', 'Actinic Keratosis Basal Cell Carcinoma and other Malignant Lesions', 'Tinea Ringworm Candidiasis and other Fungal Infections', 'Tinea Ringworm Candidiasis and other Fungal Infections', 'Warts Molluscum and other Viral Infections', 'Warts Molluscum and other Viral Infections', 'Acne and Rosacea Photos', 'Acne and Rosacea Photos', 'Acne and Rosacea Photos', 'Systemic Disease', 'Warts Molluscum and other Viral Infections', 'Acne and Rosacea Photos', 'Acne and Rosacea Photos', 'Light Diseases and Disorders of Pigmentation', 'Tinea Ringworm Candidiasis and other Fungal Infections', 'Tinea Ringworm Candidiasis and other Fungal Infections', 'Light Diseases and Disorders of Pigmentation', 'Light Diseases and Disorders of Pigmentation', 'Vascular Tumors', 'Tinea Ringworm Candidiasis and other Fungal Infections', 'Warts Molluscum and other Viral Infections', 'Actinic Keratosis Basal Cell Carcinoma and other Malignant Lesions', 'Acne and Rosacea Photos', 'Actinic Keratosis Basal Cell Carcinoma and other Malignant Lesions', 'Acne and Rosacea Photos', 'Atopic Dermatitis Photos', 'Lupus and other Connective Tissue diseases', 'Atopic Dermatitis Photos', 'Actinic Keratosis Basal Cell Carcinoma and other Malignant Lesions', 'Warts Molluscum and other Viral Infections', 'Acne and Rosacea Photos', 'Light Diseases and Disorders of Pigmentation', 'Atopic Dermatitis Photos', 'Vascular Tumors', 'Warts Molluscum and other Viral Infections', 'Atopic Dermatitis Photos', 'Vascular Tumors', 'Lupus and other Connective Tissue diseases', 'Atopic Dermatitis Photos', 'Exanthems and Drug Eruptions', 'Warts Molluscum and other Viral Infections', 'Light Diseases and Disorders of Pigmentation', 'Acne and Rosacea Photos', 'Actinic Keratosis Basal Cell Carcinoma and other Malignant Lesions', 'Acne and Rosacea Photos', 'Acne and Rosacea Photos', 'Vascular Tumors', 'Acne and Rosacea Photos', 'Vascular Tumors', 'Actinic Keratosis Basal Cell Carcinoma and other Malignant Lesions', 'Light Diseases and Disorders of Pigmentation', 'Actinic Keratosis Basal Cell Carcinoma and other Malignant Lesions', 'Actinic Keratosis Basal Cell Carcinoma and other Malignant Lesions', 'Warts Molluscum and other Viral Infections', 'Vascular Tumors', 'Warts Molluscum and other Viral Infections', 'Actinic Keratosis Basal Cell Carcinoma and other Malignant Lesions', 'Vascular Tumors', 'Actinic Keratosis Basal Cell Carcinoma and other Malignant Lesions', 'Acne and Rosacea Photos', 'Warts Molluscum and other Viral Infections', 'Vascular Tumors', 'Light Diseases and Disorders of Pigmentation', 'Atopic Dermatitis Photos', 'Cellulitis Impetigo and other Bacterial Infections', 'Warts Molluscum and other Viral Infections', 'Cellulitis Impetigo and other Bacterial Infections', 'Atopic Dermatitis Photos', 'Vascular Tumors', 'Lupus and other Connective Tissue diseases', 'Warts Molluscum and other Viral Infections', 'Acne and Rosacea Photos', 'Lupus and other Connective Tissue diseases', 'Tinea Ringworm Candidiasis and other Fungal Infections', 'Acne and Rosacea Photos', 'Acne and Rosacea Photos', 'Warts Molluscum and other Viral Infections', 'Acne and Rosacea Photos', 'Lupus and other Connective Tissue diseases', 'Warts Molluscum and other Viral Infections', 'Acne and Rosacea Photos', 'Acne and Rosacea Photos', 'Warts Molluscum and other Viral Infections', 'Warts Molluscum and other Viral Infections', 'Warts Molluscum and other Viral Infections', 'Cellulitis Impetigo and other Bacterial Infections', 'Warts Molluscum and other Viral Infections', 'Warts Molluscum and other Viral Infections', 'Warts Molluscum and other Viral Infections', 'Warts Molluscum and other Viral Infections', 'Warts Molluscum and other Viral Infections', 'Warts Molluscum and other Viral Infections', 'Warts Molluscum and other Viral Infections', 'Acne and Rosacea Photos', 'Warts Molluscum and other Viral Infections', 'Warts Molluscum and other Viral Infections', 'Warts Molluscum and other Viral Infections', 'Acne and Rosacea Photos', 'Warts Molluscum and other Viral Infections', 'Acne and Rosacea Photos', 'Warts Molluscum and other Viral Infections', 'Acne and Rosacea Photos', 'Actinic Keratosis Basal Cell Carcinoma and other Malignant Lesions', 'Acne and Rosacea Photos', 'Acne and Rosacea Photos', 'Herpes HPV and other STDs Photos', 'Herpes HPV and other STDs Photos', 'Warts Molluscum and other Viral Infections', 'Warts Molluscum and other Viral Infections', 'Tinea Ringworm Candidiasis and other Fungal Infections', 'Warts Molluscum and other Viral Infections', 'Acne and Rosacea Photos', 'Warts Molluscum and other Viral Infections', 'Acne and Rosacea Photos']\n"
          ]
        }
      ]
    },
    {
      "cell_type": "code",
      "source": [],
      "metadata": {
        "id": "UKdYRiqeZIQu"
      },
      "execution_count": null,
      "outputs": []
    }
  ]
}